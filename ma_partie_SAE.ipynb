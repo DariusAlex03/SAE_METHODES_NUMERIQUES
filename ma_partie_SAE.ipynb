{
 "cells": [
  {
   "cell_type": "code",
   "execution_count": 6,
   "id": "24e4d8e9",
   "metadata": {},
   "outputs": [],
   "source": [
    "import random\n",
    "import string\n",
    "from matplotlib.pyplot import *"
   ]
  },
  {
   "cell_type": "code",
   "execution_count": 5,
   "id": "132e6082",
   "metadata": {},
   "outputs": [
    {
     "ename": "NameError",
     "evalue": "name 'randint' is not defined",
     "output_type": "error",
     "traceback": [
      "\u001b[1;31m---------------------------------------------------------------------------\u001b[0m",
      "\u001b[1;31mNameError\u001b[0m                                 Traceback (most recent call last)",
      "Input \u001b[1;32mIn [5]\u001b[0m, in \u001b[0;36m<cell line: 10>\u001b[1;34m()\u001b[0m\n\u001b[0;32m      6\u001b[0m         i\u001b[38;5;241m+\u001b[39m\u001b[38;5;241m=\u001b[39m \u001b[38;5;241m1\u001b[39m\n\u001b[0;32m      8\u001b[0m     \u001b[38;5;28;01mreturn\u001b[39;00m tab_point_alea\n\u001b[1;32m---> 10\u001b[0m \u001b[43mdistances_aleatoire\u001b[49m\u001b[43m(\u001b[49m\u001b[38;5;241;43m5\u001b[39;49m\u001b[43m)\u001b[49m\n",
      "Input \u001b[1;32mIn [5]\u001b[0m, in \u001b[0;36mdistances_aleatoire\u001b[1;34m(taille)\u001b[0m\n\u001b[0;32m      3\u001b[0m i \u001b[38;5;241m=\u001b[39m \u001b[38;5;241m0\u001b[39m\n\u001b[0;32m      4\u001b[0m \u001b[38;5;28;01mwhile\u001b[39;00m i \u001b[38;5;241m<\u001b[39m \u001b[38;5;28mint\u001b[39m(taille):\n\u001b[1;32m----> 5\u001b[0m     tab_point_alea\u001b[38;5;241m.\u001b[39mappend(\u001b[43mrandint\u001b[49m(\u001b[38;5;241m1\u001b[39m,taille))\n\u001b[0;32m      6\u001b[0m     i\u001b[38;5;241m+\u001b[39m\u001b[38;5;241m=\u001b[39m \u001b[38;5;241m1\u001b[39m\n\u001b[0;32m      8\u001b[0m \u001b[38;5;28;01mreturn\u001b[39;00m tab_point_alea\n",
      "\u001b[1;31mNameError\u001b[0m: name 'randint' is not defined"
     ]
    }
   ],
   "source": [
    "def distances_aleatoire(taille):\n",
    "    tab_point_alea = []\n",
    "    i = 0\n",
    "    while i < int(taille):\n",
    "        tab_point_alea.append(randint(1,taille))\n",
    "        i+= 1\n",
    "        \n",
    "    return tab_point_alea\n",
    "    \n",
    "distances_aleatoire(5)"
   ]
  },
  {
   "cell_type": "code",
   "execution_count": 10,
   "id": "8ad60337",
   "metadata": {},
   "outputs": [
    {
     "data": {
      "text/plain": [
       "['P', 'C', 'G', 'N', 'M', 'Y', 'D', 'L', 'U', 'W', 'Z', 'O', 'F', 'E', 'B']"
      ]
     },
     "execution_count": 10,
     "metadata": {},
     "output_type": "execute_result"
    }
   ],
   "source": [
    "def nom_points_aleatoire(longueur):\n",
    "    \n",
    "    str = string.ascii_uppercase\n",
    "    tab = []\n",
    "    for i in range(longueur):\n",
    "        t = (random.choice(str))\n",
    "        j = 0\n",
    "        while j < len(tab):\n",
    "            if tab[j] == t :\n",
    "                t = (random.choice(str))\n",
    "            j += 1\n",
    "        tab.append(t)\n",
    "        \n",
    "    return tab\n",
    "    \n",
    "nom_points_aleatoire(15)"
   ]
  },
  {
   "cell_type": "code",
   "execution_count": 65,
   "id": "996a3a3d",
   "metadata": {},
   "outputs": [
    {
     "name": "stdout",
     "output_type": "stream",
     "text": [
      "{'H': 2, 'X': 8, 'F': 7, 'Q': 2, 'T': 7, 'D': 7, 'M': 10, 'U': 10, 'P': 8}\n"
     ]
    }
   ],
   "source": [
    "def diagramme(points):\n",
    "    k = nom_points_aleatoire(points)\n",
    "    l = distances_aleatoire(points)\n",
    "    diag ={}\n",
    "    i = 0\n",
    "    while i < len(k):\n",
    "        diag.update({k[i] : l[i]})\n",
    "        i += 1\n",
    "    print(diag)\n",
    "    \n",
    "diagramme(10)"
   ]
  },
  {
   "cell_type": "code",
   "execution_count": null,
   "id": "82cd370b",
   "metadata": {},
   "outputs": [],
   "source": [
    "def diagramme2(points):\n",
    "    k = nom_points_aleatoire(points)\n",
    "    l = distances_aleatoire(points)\n",
    "    diag ={}\n",
    "    i = 0\n",
    "    \n",
    "    while i < len(k):\n",
    "        diag.update({k[i] : l[i]})\n",
    "        i += 1\n",
    "    print(diag)\n",
    "    \n",
    "diagramme2(10)"
   ]
  },
  {
   "cell_type": "code",
   "execution_count": 1,
   "id": "2b8ffa0a",
   "metadata": {},
   "outputs": [
    {
     "name": "stdout",
     "output_type": "stream",
     "text": [
      "combien de point y a t-il dans votre graphe?\n",
      "5\n",
      "Entrez vos en commencent par votre point de et en finissant par votre point d'arriver?\n",
      "a\n",
      "\n",
      "le point est deja present veuillez en mettre un nouveaux\n",
      "b\n",
      "f\n",
      "v\n",
      "votre point de depart est -  -votre point d'arriver est - v\n",
      "['', 'a', 'b', 'f', 'v']\n"
     ]
    }
   ],
   "source": [
    "def saisie_point():\n",
    "    tab_point=[]\n",
    "\n",
    "    print(\"combien de point y a t-il dans votre graphe?\")\n",
    "    nb_de_point=int(input())\n",
    "    print(\"Entrez vos en commencent par votre point de et en finissant par votre point d'arriver?\")\n",
    "    i=1\n",
    "    parc1=1\n",
    "    point=\"\"\n",
    "\n",
    "    tab_point.append(point)\n",
    "\n",
    "\n",
    "    while i<nb_de_point:\n",
    "        point=input()\n",
    "        while parc1<len(tab_point):\n",
    "            if point==tab_point[parc1]:\n",
    "                print(\"le point est deja present veuillez en mettre un nouveaux\")\n",
    "                point=input()\n",
    "                parc1=0\n",
    "            elif point=='':\n",
    "                print(\"mettre un nom\")\n",
    "                point=input()\n",
    "                parc1=0\n",
    "            else:\n",
    "                parc1=parc1+1\n",
    "\n",
    "\n",
    "        tab_point.append(point)\n",
    "        parc1=0\n",
    "        i=i+1\n",
    "\n",
    "    print(\"votre point de depart est -\",tab_point[0],\"-votre point d'arriver est -\",tab_point[-1])\n",
    "\n",
    "    return tab_point\n",
    "print(saisie_point())"
   ]
  },
  {
   "cell_type": "code",
   "execution_count": 7,
   "id": "888266a1",
   "metadata": {},
   "outputs": [
    {
     "name": "stdout",
     "output_type": "stream",
     "text": [
      "combien de point y a t-il dans votre graphe?\n",
      "10\n",
      "Entrez vos en commencent par votre point de et en finissant par votre point d'arriver?\n",
      "h\n",
      "a\n",
      "ds\n",
      "ft\n",
      "v\n",
      "h\n",
      "le point est deja present veuillez en mettre un nouveaux\n",
      "dh\n",
      "d\n",
      "c\n",
      " \n",
      "votre point de depart est -  -votre point d'arriver est -  \n"
     ]
    },
    {
     "ename": "NameError",
     "evalue": "name 'randint' is not defined",
     "output_type": "error",
     "traceback": [
      "\u001b[1;31m---------------------------------------------------------------------------\u001b[0m",
      "\u001b[1;31mNameError\u001b[0m                                 Traceback (most recent call last)",
      "Input \u001b[1;32mIn [7]\u001b[0m, in \u001b[0;36m<cell line: 12>\u001b[1;34m()\u001b[0m\n\u001b[0;32m      9\u001b[0m         i \u001b[38;5;241m+\u001b[39m\u001b[38;5;241m=\u001b[39m \u001b[38;5;241m1\u001b[39m\n\u001b[0;32m     10\u001b[0m     \u001b[38;5;28mprint\u001b[39m(diag)\n\u001b[1;32m---> 12\u001b[0m \u001b[43mdiagramme3\u001b[49m\u001b[43m(\u001b[49m\u001b[38;5;241;43m10\u001b[39;49m\u001b[43m)\u001b[49m\n",
      "Input \u001b[1;32mIn [7]\u001b[0m, in \u001b[0;36mdiagramme3\u001b[1;34m(points)\u001b[0m\n\u001b[0;32m      1\u001b[0m \u001b[38;5;28;01mdef\u001b[39;00m \u001b[38;5;21mdiagramme3\u001b[39m(points):\n\u001b[0;32m      2\u001b[0m     k \u001b[38;5;241m=\u001b[39msaisie_point()\n\u001b[1;32m----> 3\u001b[0m     l \u001b[38;5;241m=\u001b[39m \u001b[43mdistances_aleatoire\u001b[49m\u001b[43m(\u001b[49m\u001b[43mpoints\u001b[49m\u001b[43m)\u001b[49m\n\u001b[0;32m      4\u001b[0m     diag \u001b[38;5;241m=\u001b[39m{}\n\u001b[0;32m      5\u001b[0m     i \u001b[38;5;241m=\u001b[39m \u001b[38;5;241m0\u001b[39m\n",
      "Input \u001b[1;32mIn [5]\u001b[0m, in \u001b[0;36mdistances_aleatoire\u001b[1;34m(taille)\u001b[0m\n\u001b[0;32m      3\u001b[0m i \u001b[38;5;241m=\u001b[39m \u001b[38;5;241m0\u001b[39m\n\u001b[0;32m      4\u001b[0m \u001b[38;5;28;01mwhile\u001b[39;00m i \u001b[38;5;241m<\u001b[39m \u001b[38;5;28mint\u001b[39m(taille):\n\u001b[1;32m----> 5\u001b[0m     tab_point_alea\u001b[38;5;241m.\u001b[39mappend(\u001b[43mrandint\u001b[49m(\u001b[38;5;241m1\u001b[39m,taille))\n\u001b[0;32m      6\u001b[0m     i\u001b[38;5;241m+\u001b[39m\u001b[38;5;241m=\u001b[39m \u001b[38;5;241m1\u001b[39m\n\u001b[0;32m      8\u001b[0m \u001b[38;5;28;01mreturn\u001b[39;00m tab_point_alea\n",
      "\u001b[1;31mNameError\u001b[0m: name 'randint' is not defined"
     ]
    }
   ],
   "source": [
    "def diagramme3(points):\n",
    "    k =saisie_point()\n",
    "    l = distances_aleatoire(points)\n",
    "    diag ={}\n",
    "    i = 0\n",
    "    \n",
    "    while i < len(k):\n",
    "        diag.update({k[i] : l[i]})\n",
    "        i += 1\n",
    "    print(diag)\n",
    "    \n",
    "diagramme3(10)"
   ]
  },
  {
   "cell_type": "markdown",
   "id": "b695b1ad",
   "metadata": {},
   "source": [
    "<div><style ></div>"
   ]
  }
 ],
 "metadata": {
  "kernelspec": {
   "display_name": "Python 3 (ipykernel)",
   "language": "python",
   "name": "python3"
  },
  "language_info": {
   "codemirror_mode": {
    "name": "ipython",
    "version": 3
   },
   "file_extension": ".py",
   "mimetype": "text/x-python",
   "name": "python",
   "nbconvert_exporter": "python",
   "pygments_lexer": "ipython3",
   "version": "3.10.4"
  }
 },
 "nbformat": 4,
 "nbformat_minor": 5
}
