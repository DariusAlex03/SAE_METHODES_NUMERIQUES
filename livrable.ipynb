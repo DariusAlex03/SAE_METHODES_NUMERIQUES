{
 "cells": [
  {
   "cell_type": "markdown",
   "id": "2779a6e9",
   "metadata": {},
   "source": [
    "<div style=\" color: white; text-align:center; font-size:30px; border-radius:15px; background: rgb(63,94,251);\n",
    "background: linear-gradient(90deg, rgba(63,94,251,1) 0%, rgba(70,245,252,0.9251050762101716) 100%); height:90px; justify-content: center; align-self:center; padding-top:35px; border:1px solid black; width: 90% ; margin-left:5%; text-decoration:underline; \">Plus court chemin : Dijkstra</div>\n",
    "<p style=\"font-style:italic; text-align:center\">Projet realisé par : CAMARA Moustapha et BUZURA Darius</p>\n",
    "<p>............................................................</p>\n",
    "<div style= \"height: 30px; background: rgb(63,94,251);\n",
    "background: linear-gradient(90deg, rgba(63,94,251,1) 0%, rgba(70,245,252,0.9251050762101716) 100%); width: 150px; border-radius: 10px; text-align:center; padding-top:5px; border: 1px solid black; color:white;\">Description :</div>"
   ]
  },
  {
   "cell_type": "markdown",
   "id": "ebcbabb9",
   "metadata": {},
   "source": [
    "<h1>Travaillons sur un problème concret :</h1>"
   ]
  },
  {
   "cell_type": "markdown",
   "id": "6fadc450",
   "metadata": {},
   "source": [
    "<p>Un jour nous avons decidé de prendre notre voiture et faire le trajet Paris-Marseille</p>"
   ]
  },
  {
   "cell_type": "markdown",
   "id": "df565ed7",
   "metadata": {},
   "source": [
    "<img src=\"image1.png\" style=\"width:500px; height:300px\">"
   ]
  },
  {
   "attachments": {},
   "cell_type": "markdown",
   "id": "0691ac04",
   "metadata": {},
   "source": [
    "<h3>Comment l'algorithme de Dijkstra pouurait nous aider à résoudre ce problème</h3>\n",
    "<P>Tout d'abord, nous allons placer les points sur les viller par lesquelles nous souhaitons passer. On va les considèrer comme les sommets d'un graphe. </p>"
   ]
  },
  {
   "cell_type": "markdown",
   "id": "cd534fe3",
   "metadata": {},
   "source": [
    "<img src=\"image2.png\" style=\"width:500px; height:300px\">"
   ]
  },
  {
   "cell_type": "markdown",
   "id": "0778fb64",
   "metadata": {},
   "source": [
    "<img src=\"image3.png\" style=\"width:500px; height:300px\">"
   ]
  },
  {
   "cell_type": "code",
   "execution_count": null,
   "id": "d7656807",
   "metadata": {},
   "outputs": [],
   "source": []
  }
 ],
 "metadata": {
  "kernelspec": {
   "display_name": "Python 3 (ipykernel)",
   "language": "python",
   "name": "python3"
  },
  "language_info": {
   "codemirror_mode": {
    "name": "ipython",
    "version": 3
   },
   "file_extension": ".py",
   "mimetype": "text/x-python",
   "name": "python",
   "nbconvert_exporter": "python",
   "pygments_lexer": "ipython3",
   "version": "3.10.4"
  }
 },
 "nbformat": 4,
 "nbformat_minor": 5
}
