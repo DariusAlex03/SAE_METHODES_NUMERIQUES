{
 "cells": [
  {
   "cell_type": "markdown",
   "id": "2779a6e9",
   "metadata": {},
   "source": [
    "<div style=\" color: white; text-align:center; font-size:30px; border-radius:20px; background: rgb(63,94,251);\n",
    "background: linear-gradient(90deg, rgba(63,94,251,1) 0%, rgba(70,245,252,0.9251050762101716) 100%); height:90px; justify-content: center; align-self:center; padding-top:35px; border:1px solid black; width: 90% ; margin-left:5%; text-decoration:underline; \">Plus court chemin : Dijkstra</div>\n",
    "<p style=\"font-style:italic; text-align:center\">Projet realisé par : CAMARA Moustapha et BUZURA Darius</p><hr>\n",
    "<p style = \"text-indent:25px;\" >Dans les cadre de la <a style = \"color:blue; font-style:italic; text-decoration:none; font-weight:bold\" href= \"https://www.ataraxy.info/COEUR/Modules/MethodesNumeriques/SAE/Catalogue.pdf\" >SAE 2.02 : Exploitation algorithmique d'un problème</a> nous étions chargé de réaliser un projet mathématique, de démontrer un thèoréme mathématique graçe à l'informatique. Nous avons choisi de réaliser le projet : Plus court chemin graçe à Dijkstra qui étais disponible dans le catalogue de sujets mises à notre disposition. Nous étions encadrées par Madame NASSIET Aurelie.</p><br>\n",
    "\n",
    "<p>La description qu nou à été donnée : </p>\n",
    "<ul>\n",
    "    <li style = \"font-weight:bold\">Niveau de difficulté : <span style = \"font-weight:normal\">☆</span></li>\n",
    "    <li style = \"font-weight:bold\">Description : <span style = \"font-weight:normal\">Étant donné un graphe (orienté ou non) nous avons vu une méthode permettant de\n",
    "déterminer les plus court chemin partant de n'importe quel sommet. C'est l'algorithme de Dijkstra</span></li>\n",
    "    <li style = \"font-weight:bold\">Animation : <span style = \"font-weight:normal\">Les diférentes étapes de l'algorithme sur un graphe pris au hasard ou saisi par l'utilisateur</span></li>\n",
    "</ul>\n"
   ]
  },
  {
   "cell_type": "markdown",
   "id": "a8e627ad",
   "metadata": {},
   "source": [
    "<div style= \"height: 50px; background: rgb(63,94,251);\n",
    "background: linear-gradient(90deg, rgba(63,94,251,1) 0%, rgba(67,167,252,1) 51%, rgba(70,92,252,0.9251050762101716) 100%); width: 350px; border-radius: 20px; text-align:center; padding-top:15px; border: 1px solid black; color:white;\">Les bibliothèques dont nous abons besoin :</div>"
   ]
  },
  {
   "cell_type": "code",
   "execution_count": 2,
   "id": "e9613b67",
   "metadata": {},
   "outputs": [],
   "source": [
    "import random\n",
    "import string\n",
    "from matplotlib.pyplot import *"
   ]
  },
  {
   "cell_type": "markdown",
   "id": "30926b5a",
   "metadata": {},
   "source": [
    "<h1>Travaillons sur un problème concret :</h1>"
   ]
  },
  {
   "cell_type": "markdown",
   "id": "8b7b0f80",
   "metadata": {},
   "source": [
    "<p>Un jour nous avons decidé de prendre notre voiture et faire le trajet Paris-Marseille. Nous souhaitons trouver le chemin le plus rapide tout en vistant d'autres villes pendant notre trajet.</p>"
   ]
  },
  {
   "cell_type": "markdown",
   "id": "df565ed7",
   "metadata": {},
   "source": [
    "<img src=\"image1.png\" style=\"width:500px; height:300px\">"
   ]
  },
  {
   "cell_type": "markdown",
   "id": "d63f0dda",
   "metadata": {},
   "source": [
    "<h3>Comment l'algorithme de Dijkstra pourait nous aider à résoudre ce problème ?</h3>\n",
    "<P>Tout d'abord, nous allons placer les points sur les viller par lesquelles nous allons potontiellement passer.Tout en restant dans l'ambiance des graphes, on va les considèrer les points placées, comme des sommets d'un graphe. </p>"
   ]
  },
  {
   "cell_type": "markdown",
   "id": "ced26485",
   "metadata": {},
   "source": [
    "<img src=\"image2.png\" style=\"width:500px; height:300px\">"
   ]
  },
  {
   "cell_type": "markdown",
   "id": "d6ff9207",
   "metadata": {},
   "source": [
    "<p>Maintenant il faudrait bien relier par des routes ces villes (on relient les sommets du graphe)</p>"
   ]
  },
  {
   "cell_type": "markdown",
   "id": "3f3cecf5",
   "metadata": {},
   "source": [
    "<img src=\"image3.png\" style=\"width:500px; height:300px\">"
   ]
  },
  {
   "cell_type": "code",
   "execution_count": null,
   "id": "293cf8fc",
   "metadata": {},
   "outputs": [],
   "source": []
  }
 ],
 "metadata": {
  "kernelspec": {
   "display_name": "Python 3 (ipykernel)",
   "language": "python",
   "name": "python3"
  },
  "language_info": {
   "codemirror_mode": {
    "name": "ipython",
    "version": 3
   },
   "file_extension": ".py",
   "mimetype": "text/x-python",
   "name": "python",
   "nbconvert_exporter": "python",
   "pygments_lexer": "ipython3",
   "version": "3.10.4"
  }
 },
 "nbformat": 4,
 "nbformat_minor": 5
}
