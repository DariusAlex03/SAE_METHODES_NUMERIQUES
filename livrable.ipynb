{
 "cells": [
  {
   "cell_type": "markdown",
   "id": "2779a6e9",
   "metadata": {},
   "source": [
    "<div style=\" color: white; text-align:center; font-size:30px; border-radius:20px; background: rgb(63,94,251);\n",
    "background: linear-gradient(90deg, rgba(63,94,251,1) 0%, rgba(70,245,252,0.9251050762101716) 100%); height:90px; justify-content: center; align-self:center; padding-top:35px; border:1px solid black; width: 90% ; margin-left:5%; text-decoration:underline; \">Plus court chemin : Dijkstra</div>\n",
    "<p style=\"font-style:italic; text-align:center\">Projet realisé par : CAMARA Moustapha et BUZURA Darius</p><hr>\n",
    "<p style = \"text-indent:25px;\" >Dans les cadre de la <a style = \"color:blue; font-style:italic; text-decoration:none; font-weight:bold\" href= \"https://www.ataraxy.info/COEUR/Modules/MethodesNumeriques/SAE/Catalogue.pdf\" >SAE 2.02 : Exploitation algorithmique d'un problème</a> nous étions chargé de réaliser un projet mathématique, de démontrer un thèoréme mathématique graçe à l'informatique. Nous avons choisi de réaliser le projet : Plus court chemin graçe à Dijkstra qui étais disponible dans le catalogue de sujets mises à notre disposition. Nous étions encadrées par Madame NASSIET Aurelie.</p><br>\n",
    "\n",
    "<p>La description qu nou à été donnée : </p>\n",
    "<ul>\n",
    "    <li style = \"font-weight:bold\">Niveau de difficulté : <span style = \"font-weight:normal\">☆</span></li><br>\n",
    "    <li style = \"font-weight:bold\">Description : <span style = \"font-weight:normal\">Étant donné un graphe (orienté ou non) nous avons vu une méthode permettant de\n",
    "déterminer les plus court chemin partant de n'importe quel sommet. C'est l'algorithme de Dijkstra</span></li><br>\n",
    "    <li style = \"font-weight:bold\">Animation : <span style = \"font-weight:normal\">Les diférentes étapes de l'algorithme sur un graphe pris au hasard ou saisi par l'utilisateur</span></li>\n",
    "</ul>\n"
   ]
  },
  {
   "cell_type": "markdown",
   "id": "77d6e06b",
   "metadata": {},
   "source": [
    "<div style= \"height: 50px; background: rgb(63,94,251);\n",
    "background: linear-gradient(90deg, rgba(63,94,251,1) 0%, rgba(67,167,252,1) 51%, rgba(70,92,252,0.9251050762101716) 100%); width: 350px; border-radius: 20px; text-align:center; padding-top:15px; border: 1px solid black; color:white;\">Les bibliothèques dont nous avons eu besoin :</div>\n",
    "<p>Merci de bien les éxecuter des le début pour éviter les erreurs.</p>"
   ]
  },
  {
   "cell_type": "code",
   "execution_count": 6,
   "id": "055353dc",
   "metadata": {},
   "outputs": [],
   "source": [
    "import random\n",
    "import string\n",
    "from matplotlib.pyplot import *"
   ]
  },
  {
   "cell_type": "markdown",
   "id": "5073bac3",
   "metadata": {},
   "source": [
    "<h1>Choix de la structure des données :</h1>\n",
    "<p style =\"text-indent:20px\" >Tout d'abord nous avons réfléchi à comment ranger les données que nous utilisons. Travailler avec des tableaux ou avec des dictionnaires ? Le fait que nous traitons des noms de sommets / points qui sont de type <code>String</code> et des distances qui sont de type <code>Int</code> nous permettait pas vraiment d'utiliser des tableaux. Cela aurait pu être possible mais avec des algorithmes énormes qui auraient énormément ralenti notre recherche. Il aurait fallu choisir des données de plusieurs tableaux et les regrouper ...</p>\n",
    "<p style = \"text-indent:5px \"> Finalement, notre choix qui nous semblait le plus adapté était de choisir des dictionnaires.</p>\n",
    "<p>Prenons un dictionnaire de points</p>\n",
    "<code>points = {}</code>\n",
    "<p>ensuite un point sera la clé (*1), qui aura en valeur un dictionnaire contenant des points en tant que clé (*2) et des distances entre clé (*1) et clé (*2)</p>"
   ]
  },
  {
   "cell_type": "code",
   "execution_count": 7,
   "id": "01db878b",
   "metadata": {},
   "outputs": [
    {
     "name": "stdout",
     "output_type": "stream",
     "text": [
      "Voici la structure sur la quelle nous nous sommes bassée :\n",
      "dict_items([('A', {'B': 3})])\n"
     ]
    }
   ],
   "source": [
    "points = {}\n",
    "#ensuite nous allons alimenter ce dictionnaire avec un point A et un point B et la distance de A vers B\n",
    "points['A'] = {'B' : 3}\n",
    "print(\"Voici la structure sur la quelle nous nous sommes bassée :\")\n",
    "print(points.items())"
   ]
  },
  {
   "cell_type": "markdown",
   "id": "e9a26153",
   "metadata": {},
   "source": [
    "<p>Sauf que B avec une distance de 3, n'est pas les seul point qui peut être relié à  A ! </p>\n",
    "<p style = \"font-weight:bold\"> Relions A à d'autres points :</p>"
   ]
  },
  {
   "cell_type": "code",
   "execution_count": 8,
   "id": "b078c1a6",
   "metadata": {},
   "outputs": [
    {
     "name": "stdout",
     "output_type": "stream",
     "text": [
      "dict_items([('A', {'B': 3, 'C': 5, 'D': 6})])\n"
     ]
    }
   ],
   "source": [
    "points['A'] = {'B' : 3, 'C' : 5, 'D' : 6}\n",
    "print(points.items())\n",
    "# A est reliée à B, C, D avec des sitances différentes "
   ]
  },
  {
   "cell_type": "markdown",
   "id": "9045640b",
   "metadata": {},
   "source": [
    "<h3>Nous avons ensuite divisé en deux parties, une partie de graphe saisi par l'utilisateur et une partie genéré aléatoire</h3>"
   ]
  },
  {
   "cell_type": "markdown",
   "id": "255222e9",
   "metadata": {},
   "source": [
    "<h1>PARTIE 1 : Saisie par l'utilisateur : </h1>"
   ]
  },
  {
   "cell_type": "markdown",
   "id": "781eb150",
   "metadata": {},
   "source": [
    "<p style = \"text-indent: 25px\"> Le programme suivant semblait être le plus adapté à représenter l'algorithme de dijkstra car il prend en compte les noms des points plus leurs distances. D’autres algorithmes ne prennent pas en compte les noms des points en utilisant que des listes. L’utilisation de dictionnaire était donc selon nous la meilleure solution.</p>"
   ]
  },
  {
   "cell_type": "code",
   "execution_count": 9,
   "id": "6e7146e1",
   "metadata": {},
   "outputs": [],
   "source": [
    "#algorithme de dijkstra\n",
    "def dijkstra(matrice, source):\n",
    "    assert all(matrice[u][v] >= 0 for u in matrice.keys() for v in matrice[u].keys())\n",
    "    precedent = {x:None for x in matrice.keys()}\n",
    "    dejaTraite = {x:False for x in matrice.keys()}\n",
    "    distance =  {x:float('inf') for x in matrice.keys()}\n",
    "    distance[source] = 0\n",
    "    a_traiter = [(0, source)]\n",
    "    while a_traiter:\n",
    "        dist_noeud, noeud = a_traiter.pop()\n",
    "        if not dejaTraite[noeud]:\n",
    "            dejaTraite[noeud] = True\n",
    "            for voisin in matrice[noeud].keys():\n",
    "                dist_voisin = dist_noeud + matrice[noeud][voisin]\n",
    "                if dist_voisin < distance[voisin]:\n",
    "                    distance[voisin] = dist_voisin\n",
    "                    precedent[voisin] = noeud\n",
    "                    a_traiter.append((dist_voisin, voisin))\n",
    "        a_traiter.sort(reverse=True)\n",
    "    return distance, precedent"
   ]
  },
  {
   "cell_type": "markdown",
   "id": "d5007b4c",
   "metadata": {},
   "source": [
    "<p>À partir de s’est distancé et c’est précédent nous allons pouvoir organiser notre rendu de manière plus ordonné en montrant les différents  points Par lesquelles nous sommes passés pour arriver à notre point d’arriver plus la distance parcourue</p>"
   ]
  },
  {
   "cell_type": "code",
   "execution_count": 10,
   "id": "ed6e399b",
   "metadata": {},
   "outputs": [],
   "source": [
    "#obtenir le trajet a effectué\n",
    "def trajet(precedent,arriver):\n",
    "    tab=[arriver]\n",
    "    while precedent.get(tab[-1]) is not None:\n",
    "        tab.append(precedent.get(tab[-1]))\n",
    "    tab.reverse()\n",
    "    return tab"
   ]
  },
  {
   "cell_type": "code",
   "execution_count": 11,
   "id": "d794b4c7",
   "metadata": {},
   "outputs": [],
   "source": [
    "#obtenir le trajet à effectuer + sa distance\n",
    "\n",
    "def  dijkstra_final(matrice,depart,arriver):\n",
    "    distance, precedent = dijkstra(matrice,depart)\n",
    "    print(matrice)\n",
    "    return trajet(precedent,arriver),distance.get(arriver)\n"
   ]
  },
  {
   "cell_type": "markdown",
   "id": "30926b5a",
   "metadata": {},
   "source": [
    "<h1>Démontrons avec un problème concret :</h1>"
   ]
  },
  {
   "cell_type": "markdown",
   "id": "8b7b0f80",
   "metadata": {},
   "source": [
    "<p>Un jour nous avons decidé de prendre notre voiture et faire le trajet Paris-Marseille. Nous souhaitons trouver le chemin le plus rapide tout en vistant d'autres villes pendant notre trajet.</p>"
   ]
  },
  {
   "cell_type": "markdown",
   "id": "df565ed7",
   "metadata": {},
   "source": [
    "<img src=\"image1.png\" style=\"width:500px; height:300px\">"
   ]
  },
  {
   "cell_type": "markdown",
   "id": "d63f0dda",
   "metadata": {},
   "source": [
    "<h3>Comment l'algorithme de Dijkstra pourait nous aider à résoudre ce problème ?</h3>\n",
    "<p>Tout d'abord, nous allons placer les points sur les viller par lesquelles nous allons potontiellement passer.Tout en restant dans l'ambiance des graphes, on va les considèrer les points placées, comme des sommets d'un graphe.</p>"
   ]
  },
  {
   "cell_type": "markdown",
   "id": "ced26485",
   "metadata": {},
   "source": [
    "<img src=\"image2.png\" style=\"width:500px; height:300px\">"
   ]
  },
  {
   "cell_type": "markdown",
   "id": "d6ff9207",
   "metadata": {},
   "source": [
    "<p>Maintenant il faudrait bien relier par des routes ces villes (on relient les sommets du graphe)</p>"
   ]
  },
  {
   "cell_type": "markdown",
   "id": "3f3cecf5",
   "metadata": {},
   "source": [
    "<img src=\"image3.png\" style=\"width:500px; height:300px\">"
   ]
  },
  {
   "cell_type": "code",
   "execution_count": 12,
   "id": "293cf8fc",
   "metadata": {},
   "outputs": [
    {
     "name": "stdout",
     "output_type": "stream",
     "text": [
      "{'PARIS': {'LYON': 5, 'NANTES': 4, 'LILLE': 2, 'TOULOUSE': 7}, 'LYON': {'PARIS': 5, 'MONTPELLIER': 5, 'NICE': 5}, 'NICE': {'LYON': 5, 'MARSEILLE': 3}, 'LILLE': {'PARIS': 2, 'MARSEILLE': 14}, 'NANTES': {'MARSEILLE': 9, 'PARIS': 4, 'TOULOUSE': 6}, 'MARSEILLE': {'NICE': 3, 'LILLE': 14, 'MONTPELLIER': 2}, 'MONTPELLIER': {'MARSEILLE': 2, 'TOULOUSE': 4, 'LYON': 5, 'NANTES': 9}, 'TOULOUSE': {'PARIS': 7, 'NANTES': 6, 'MONTPELLIER': 4}}\n",
      "Le trajet retenu avec la distance totale et les villes parcourues est : (['PARIS', 'LYON', 'MONTPELLIER', 'MARSEILLE'], 12)\n"
     ]
    }
   ],
   "source": [
    "\n",
    "france={}\n",
    "france['PARIS']={'LYON':5,'NANTES':4, 'LILLE':2, 'TOULOUSE':7}\n",
    "france['LYON']={'PARIS':5,'MONTPELLIER':5,'NICE':5}\n",
    "france['NICE']={'LYON':5,'MARSEILLE':3}\n",
    "france['LILLE']={'PARIS':2,'MARSEILLE':14}\n",
    "france['NANTES']={'MARSEILLE':9,'PARIS':4, 'TOULOUSE':6}\n",
    "france['MARSEILLE']={'NICE':3,'LILLE':14, 'MONTPELLIER':2}\n",
    "france['MONTPELLIER']={'MARSEILLE':2,'TOULOUSE' : 4, 'LYON': 5, 'NANTES': 9}\n",
    "france['TOULOUSE']={'PARIS': 7, 'NANTES':6, 'MONTPELLIER':4}\n",
    "   \n",
    "print(\"Le trajet retenu avec la distance totale et les villes parcourues est :\", str(dijkstra_final(france,'PARIS','MARSEILLE')))"
   ]
  },
  {
   "cell_type": "markdown",
   "id": "96298283",
   "metadata": {},
   "source": [
    "<img src=\"image4.png\" style=\"width:500px; height:300px\">"
   ]
  },
  {
   "cell_type": "markdown",
   "id": "24a6af53",
   "metadata": {},
   "source": [
    "<h1>PARTIE 2 : Dijkstra aléatoire </h1>"
   ]
  },
  {
   "cell_type": "markdown",
   "id": "c279e7c6",
   "metadata": {},
   "source": [
    "<p>À fin de générer une matrice aléatoire il nous faut tout d’abord générer des noms aléatoire.</p>"
   ]
  },
  {
   "cell_type": "code",
   "execution_count": 13,
   "id": "847e972f",
   "metadata": {},
   "outputs": [
    {
     "name": "stdout",
     "output_type": "stream",
     "text": [
      "BWKHP\n"
     ]
    }
   ],
   "source": [
    "#obtenir une chaine de caractère aléatoire \n",
    "def chaine_alea(longueur):    \n",
    "    str = string.ascii_uppercase\n",
    "    return ''.join(random.choice(str) for i in range(longueur))\n",
    "print(chaine_alea(5))"
   ]
  },
  {
   "cell_type": "markdown",
   "id": "812c9e52",
   "metadata": {},
   "source": [
    "<p>Il faut ensuite générer tous nos points .</p>"
   ]
  },
  {
   "cell_type": "code",
   "execution_count": 14,
   "id": "4938e955",
   "metadata": {},
   "outputs": [
    {
     "name": "stdout",
     "output_type": "stream",
     "text": [
      "['NOJVS', 'FEXLB', 'DLANN', 'WVFER', 'RCVOV', 'JUBHJ']\n"
     ]
    }
   ],
   "source": [
    "#obtenir un tableau de chaine de caractère aléatoire\n",
    "\n",
    "def nom_points_aleatoire(longueur):\n",
    "\n",
    "    str = string.ascii_uppercase\n",
    "    tab = []\n",
    "    for i in range(longueur):\n",
    "        t = (chaine_alea(5))\n",
    "        j = 0\n",
    "        while j < len(tab):\n",
    "            if tab[j] == t :\n",
    "                t = (chaine_alea(5))\n",
    "            j += 1\n",
    "        tab.append(t)\n",
    "\n",
    "    return tab\n",
    "\n",
    "\n",
    "print(nom_points_aleatoire(6))"
   ]
  },
  {
   "cell_type": "markdown",
   "id": "9d3c7425",
   "metadata": {},
   "source": [
    "<p>Les distance elle aussi sont générées aléatoirement de la manière suivante.</p>"
   ]
  },
  {
   "cell_type": "code",
   "execution_count": 15,
   "id": "1e7780d8",
   "metadata": {},
   "outputs": [
    {
     "name": "stdout",
     "output_type": "stream",
     "text": [
      "[39, 39, 92, 73, 50]\n"
     ]
    }
   ],
   "source": [
    "#obtenir un tableau de distance aléatoire\n",
    "\n",
    "\n",
    "def distances_aleatoire(taille):\n",
    "    tab_point_alea = []\n",
    "    i = 0\n",
    "    while i < int(taille):\n",
    "        tab_point_alea.append(random.randint(1,100))\n",
    "        i+= 1\n",
    "\n",
    "    return tab_point_alea\n",
    "\n",
    "print(distances_aleatoire(5))"
   ]
  },
  {
   "cell_type": "markdown",
   "id": "682ff14d",
   "metadata": {},
   "source": [
    "<p>Il faut ensuite associer les distances au point.</p>"
   ]
  },
  {
   "cell_type": "code",
   "execution_count": 16,
   "id": "16e55ec9",
   "metadata": {},
   "outputs": [
    {
     "name": "stdout",
     "output_type": "stream",
     "text": [
      "{'ILMBK': 14, 'DXDYP': 96, 'QHPYN': 19, 'HTNGQ': 52, 'KMADA': 94}\n"
     ]
    }
   ],
   "source": [
    "#couple distance + point\n",
    "\n",
    "def diagramme(points,tab):\n",
    "    k = tab\n",
    "    l = distances_aleatoire(points)\n",
    "    diag ={}\n",
    "    i = 0\n",
    "    while i <len(k):\n",
    "        diag.update({k[i] : l[i]})\n",
    "        i += 1\n",
    "    return diag\n",
    "    \n",
    "print(diagramme(5,nom_points_aleatoire(5)))"
   ]
  },
  {
   "cell_type": "markdown",
   "id": "1912c373",
   "metadata": {},
   "source": [
    "<p>On peut par la suite générer la matrice de la manière suivante.</p>"
   ]
  },
  {
   "cell_type": "code",
   "execution_count": 17,
   "id": "05ed2cf2",
   "metadata": {},
   "outputs": [
    {
     "name": "stdout",
     "output_type": "stream",
     "text": [
      "({'RQOIK': {'RQOIK': 53, 'OVVBE': 14, 'VNZZK': 20, 'XTDHE': 58, 'SOVWU': 29}, 'OVVBE': {'RQOIK': 54, 'OVVBE': 74, 'VNZZK': 28, 'XTDHE': 57, 'SOVWU': 37}, 'VNZZK': {'RQOIK': 50, 'OVVBE': 83, 'VNZZK': 100, 'XTDHE': 79, 'SOVWU': 94}, 'XTDHE': {'RQOIK': 29, 'OVVBE': 81, 'VNZZK': 56, 'XTDHE': 48, 'SOVWU': 29}, 'SOVWU': {'RQOIK': 28, 'OVVBE': 37, 'VNZZK': 62, 'XTDHE': 83, 'SOVWU': 67}}, dict_keys(['RQOIK', 'OVVBE', 'VNZZK', 'XTDHE', 'SOVWU']))\n"
     ]
    }
   ],
   "source": [
    "#obtenir une matrice aléatoire\n",
    "\n",
    "def matrice_primaire_alea(nbr_de_point):\n",
    "    matrice_prim={}\n",
    "    a=nom_points_aleatoire(nbr_de_point)\n",
    "    i=0\n",
    "    while len(matrice_prim.keys())<nbr_de_point:\n",
    "        matrice_prim[a[i]] = diagramme(nbr_de_point,a)      \n",
    "        i+=1\n",
    "    return matrice_prim, matrice_prim.keys()\n",
    "print(matrice_primaire_alea(5))"
   ]
  },
  {
   "cell_type": "markdown",
   "id": "618bd071",
   "metadata": {},
   "source": [
    "<p>Le programme suivant nous permet quand tu vas lui d’entrer les paramètres nécessaires le point d’arrivée le point de départ est le nombre de points pour ensuite effectuer l’algorithme de Djikstra</p>"
   ]
  },
  {
   "cell_type": "code",
   "execution_count": 19,
   "id": "a55c485f",
   "metadata": {},
   "outputs": [
    {
     "name": "stdout",
     "output_type": "stream",
     "text": [
      "combien de point voulez vous dans votre matrice?\n",
      "7\n",
      "les different point du graphe sont dict_keys(['WEGSK', 'QWQXR', 'MDVZV', 'MEQZM', 'OMADF', 'SRSOV', 'YWBVJ'])\n",
      "quel est votre point de depart?\n",
      "WEGSK\n",
      "quel est votre point d'arriver?\n",
      "MDVZV\n",
      "{'WEGSK': {'WEGSK': 80, 'QWQXR': 70, 'MDVZV': 31, 'MEQZM': 13, 'OMADF': 70, 'SRSOV': 78, 'YWBVJ': 36}, 'QWQXR': {'WEGSK': 79, 'QWQXR': 28, 'MDVZV': 53, 'MEQZM': 84, 'OMADF': 42, 'SRSOV': 25, 'YWBVJ': 49}, 'MDVZV': {'WEGSK': 14, 'QWQXR': 44, 'MDVZV': 52, 'MEQZM': 70, 'OMADF': 100, 'SRSOV': 54, 'YWBVJ': 64}, 'MEQZM': {'WEGSK': 26, 'QWQXR': 17, 'MDVZV': 66, 'MEQZM': 58, 'OMADF': 2, 'SRSOV': 37, 'YWBVJ': 35}, 'OMADF': {'WEGSK': 16, 'QWQXR': 25, 'MDVZV': 14, 'MEQZM': 35, 'OMADF': 37, 'SRSOV': 36, 'YWBVJ': 41}, 'SRSOV': {'WEGSK': 33, 'QWQXR': 55, 'MDVZV': 51, 'MEQZM': 9, 'OMADF': 3, 'SRSOV': 99, 'YWBVJ': 43}, 'YWBVJ': {'WEGSK': 10, 'QWQXR': 79, 'MDVZV': 29, 'MEQZM': 56, 'OMADF': 45, 'SRSOV': 36, 'YWBVJ': 32}}\n",
      "{'WEGSK': {'WEGSK': 80, 'QWQXR': 70, 'MDVZV': 31, 'MEQZM': 13, 'OMADF': 70, 'SRSOV': 78, 'YWBVJ': 36}, 'QWQXR': {'WEGSK': 79, 'QWQXR': 28, 'MDVZV': 53, 'MEQZM': 84, 'OMADF': 42, 'SRSOV': 25, 'YWBVJ': 49}, 'MDVZV': {'WEGSK': 14, 'QWQXR': 44, 'MDVZV': 52, 'MEQZM': 70, 'OMADF': 100, 'SRSOV': 54, 'YWBVJ': 64}, 'MEQZM': {'WEGSK': 26, 'QWQXR': 17, 'MDVZV': 66, 'MEQZM': 58, 'OMADF': 2, 'SRSOV': 37, 'YWBVJ': 35}, 'OMADF': {'WEGSK': 16, 'QWQXR': 25, 'MDVZV': 14, 'MEQZM': 35, 'OMADF': 37, 'SRSOV': 36, 'YWBVJ': 41}, 'SRSOV': {'WEGSK': 33, 'QWQXR': 55, 'MDVZV': 51, 'MEQZM': 9, 'OMADF': 3, 'SRSOV': 99, 'YWBVJ': 43}, 'YWBVJ': {'WEGSK': 10, 'QWQXR': 79, 'MDVZV': 29, 'MEQZM': 56, 'OMADF': 45, 'SRSOV': 36, 'YWBVJ': 32}}\n",
      "Le trajet finale est (['WEGSK', 'MEQZM', 'OMADF', 'MDVZV'], 29)\n"
     ]
    }
   ],
   "source": [
    "#obtenir le trajet à effectuer + sa distance pour une matrice aléatoire\n",
    "\n",
    "def  dijkstra_final_aleatoire():\n",
    "    print(\"combien de point voulez vous dans votre matrice?\")\n",
    "    a, b=matrice_primaire_alea(int(input()))\n",
    "    \n",
    "    print(\"les different point du graphe sont\",b)\n",
    "    print(\"quel est votre point de depart?\")\n",
    "    depart=input()\n",
    "    print(\"quel est votre point d'arriver?\")\n",
    "    arriver=input()\n",
    "    print (a)\n",
    "    return \"Le trajet finale est \" + str(dijkstra_final(a,depart,arriver))\n",
    "    \n",
    "\n",
    "print(dijkstra_final_aleatoire())"
   ]
  },
  {
   "cell_type": "markdown",
   "id": "57fc882b",
   "metadata": {},
   "source": [
    "<h1>PARTIE 3 : EN TRAVAUX</h1>"
   ]
  },
  {
   "cell_type": "markdown",
   "id": "359eed53",
   "metadata": {},
   "source": [
    "<div style =\"margin: 0px 25%; position: relative; display: block; text-indent: 0; width: 400px; height:305px; \n",
    "             border:1px solid black; overflow: hidden;\">\n",
    "    <span style = \"position:absolute; width:80px; height:350px; border:1px solid black; \" ><span style = \"position:relative;display:inline-block; width:400px; height: 30px; border-bottom:1px solid black; margin:0px 0px; overflow: hidden;\"></span></span>\n",
    "    <span style = \"position:absolute; width:40px; height:350px; border:1px solid black; margin-left:80px; overflow: hidden; padding-left:10px; \" >\n",
    "        <span style = \" position:absolute; width:40px; height:30px; padding-top:3px; font-size:25px;\">a</span>\n",
    "    </span>\n",
    "    <span style = \"position:absolute; width:40px; height:350px; border:1px solid black; margin-left:120px; overflow: hidden; padding-left:10px;\" >\n",
    "        <span style = \" position:absolute; width:40px; height:30px; padding-top:3px; font-size:25px;\">b</span>\n",
    "    </span>\n",
    "    <span style = \"position:absolute; width:40px; height:350px; border:1px solid black; margin-left:160px; overflow: hidden; padding-left:10px;\" >\n",
    "    <span style = \" position:absolute; width:40px; height:30px; padding-top:3px; font-size:25px;\">c</span>\n",
    "    </span>\n",
    "    <span style = \"position:absolute; width:40px; height:350px; border:1px solid black; margin-left:200px; overflow: hidden; padding-left:10px;\" >\n",
    "    <span style = \" position:absolute; width:40px; height:30px; padding-top:3px; font-size:25px;\">d</span>\n",
    "    </span>\n",
    "    <span style = \"position:absolute; width:40px; height:350px; border:1px solid black; margin-left:240px; overflow: hidden;padding-left:10px; \" >\n",
    "    <span style = \" position:absolute; width:40px; height:30px; padding-top:3px; font-size:25px;\">e</span>\n",
    "    </span>\n",
    "    <span style = \"position:absolute; width:40px; height:350px; border:1px solid black; margin-left:280px; overflow: hidden;padding-left:10px; \" >\n",
    "    <span style = \" position:absolute; width:40px; height:30px; padding-top:3px; font-size:25px;\">f</span>\n",
    "    </span>\n",
    "    <span style = \"position:absolute; width:40px; height:350px; border:1px solid black; margin-left:320px; overflow: hidden; padding-left:10px;\" >\n",
    "    <span style = \" position:absolute; width:40px; height:30px; padding-top:3px; font-size:25px;\">g</span>\n",
    "    </span>\n",
    "    <span style = \"position:absolute; width:40px; height:350px; border:1px solid black; margin-left:360px; overflow: hidden; padding-left:10px;\" >\n",
    "    <span style = \" position:absolute; width:40px; height:30px; padding-top:3px; font-size:25px;\">h</span>\n",
    "    </span>\n",
    "    <! -- partie 2 -->\n",
    "    <span style = \"position:relative;display:inline-block; width:400px; height: 30px; border-bottom:1px solid black; margin-top:30px; overflow: hidden;\">\n",
    "    <span style = \"position:absolute; width:40px; height:35px; padding-top:5px; font-size:25px; padding-left:20px; \">Init</span>\n",
    "     <span style = \"position:absolute; width:40px; height:35px; padding-top:5px; font-size:25px; padding-left:20px; margin-left:70px \"><span><span></span></span></span>\n",
    "    </span>\n",
    "    <span style = \"position:relative;display:inline-block; width:400px; height: 30px; border-bottom:1px solid black; overflow: hidden;\">\n",
    "        <span style = \"position:absolute; width:40px; height:35px; padding-top:3px; font-size:25px; padding-left:30px; \"></span>\n",
    "    </span>\n",
    "    <span style = \"position:relative;display:inline-block; width:400px; height: 30px; border-bottom:1px solid black; overflow: hidden;\">\n",
    "    </span>\n",
    "    <span style = \"position:relative;display:inline-block; width:400px; height: 30px; border-bottom:1px solid black; overflow: hidden;\"></span>\n",
    "    <span style = \"position:relative;display:inline-block; width:400px; height: 30px; border-bottom:1px solid black; overflow: hidden;\"></span>\n",
    "    <span style = \"position:relative;display:inline-block; width:400px; height: 30px; border-bottom:1px solid black; overflow: hidden;\"></span>\n",
    "    <span style = \"position:relative;display:inline-block; width:400px; height: 30px; border-bottom:1px solid black; overflow: hidden;\"></span>\n",
    "    <span style = \"position:relative;display:inline-block; width:400px; height: 30px; border-bottom:1px solid black; overflow: hidden;\"></span>\n",
    "    \n",
    "\n",
    "</div>"
   ]
  },
  {
   "cell_type": "markdown",
   "id": "c406ea59",
   "metadata": {},
   "source": [
    "<div style =\"margin: 0px 25%; position: relative; display: block; text-indent: 0; width: 400px; height:305px; \n",
    "             border:1px solid black; overflow: hidden;\">\n",
    "    <span style = \"position:absolute; width:80px; height:350px; border:1px solid black; \" ><span style = \"position:relative;display:inline-block; width:400px; height: 30px; border-bottom:1px solid black; margin:0px 0px; overflow: hidden;\"></span></span>\n",
    "    <span style = \"position:absolute; width:40px; height:350px; border:1px solid black; margin-left:80px; overflow: hidden; padding-left:10px; \" >\n",
    "        <span style = \" position:absolute; width:40px; height:30px; padding-top:3px; font-size:25px;\">a</span>\n",
    "    </span>\n",
    "    <span style = \"position:absolute; width:40px; height:350px; border:1px solid black; margin-left:120px; overflow: hidden; padding-left:10px;\" >\n",
    "        <span style = \" position:absolute; width:40px; height:30px; padding-top:3px; font-size:25px;\">b</span>\n",
    "    </span>\n",
    "    <span style = \"position:absolute; width:40px; height:350px; border:1px solid black; margin-left:160px; overflow: hidden; padding-left:10px;\" >\n",
    "    <span style = \" position:absolute; width:40px; height:30px; padding-top:3px; font-size:25px;\">c</span>\n",
    "    </span>\n",
    "    <span style = \"position:absolute; width:40px; height:350px; border:1px solid black; margin-left:200px; overflow: hidden; padding-left:10px;\" >\n",
    "    <span style = \" position:absolute; width:40px; height:30px; padding-top:3px; font-size:25px;\">d</span>\n",
    "    </span>\n",
    "    <span style = \"position:absolute; width:40px; height:350px; border:1px solid black; margin-left:240px; overflow: hidden;padding-left:10px; \" >\n",
    "    <span style = \" position:absolute; width:40px; height:30px; padding-top:3px; font-size:25px;\">e</span>\n",
    "    </span>\n",
    "    <span style = \"position:absolute; width:40px; height:350px; border:1px solid black; margin-left:280px; overflow: hidden;padding-left:10px; \" >\n",
    "    <span style = \" position:absolute; width:40px; height:30px; padding-top:3px; font-size:25px;\">f</span>\n",
    "    </span>\n",
    "    <span style = \"position:absolute; width:40px; height:350px; border:1px solid black; margin-left:320px; overflow: hidden; padding-left:10px;\" >\n",
    "    <span style = \" position:absolute; width:40px; height:30px; padding-top:3px; font-size:25px;\">g</span>\n",
    "    </span>\n",
    "    <span style = \"position:absolute; width:40px; height:350px; border:1px solid black; margin-left:360px; overflow: hidden; padding-left:10px;\" >\n",
    "    <span style = \" position:absolute; width:40px; height:30px; padding-top:3px; font-size:25px;\">h</span>\n",
    "    </span>\n",
    "    <! -- partie 2 -->\n",
    "    <span style = \"position:relative;display:inline-block; width:400px; height: 30px; border-bottom:1px solid black; margin-top:30px; overflow: hidden;\">\n",
    "    <span style = \"position:absolute; width:40px; height:35px; padding-top:5px; font-size:25px; padding-left:20px; \">Init</span>\n",
    "     <span style = \"position:absolute; width:40px; height:35px; padding-top:5px; font-size:25px; padding-left:20px; margin-left:70px \"><span><span></span></span></span>\n",
    "    </span>\n",
    "    <span style = \"position:relative;display:inline-block; width:400px; height: 30px; border-bottom:1px solid black; overflow: hidden;\">\n",
    "        <span style = \"position:absolute; width:40px; height:35px; padding-top:3px; font-size:25px; padding-left:30px; \"></span>\n",
    "    </span>\n",
    "    <span style = \"position:relative;display:inline-block; width:400px; height: 30px; border-bottom:1px solid black; overflow: hidden;\">\n",
    "    </span>\n",
    "    <span style = \"position:relative;display:inline-block; width:400px; height: 30px; border-bottom:1px solid black; overflow: hidden;\"></span>\n",
    "    <span style = \"position:relative;display:inline-block; width:400px; height: 30px; border-bottom:1px solid black; overflow: hidden;\"></span>\n",
    "    <span style = \"position:relative;display:inline-block; width:400px; height: 30px; border-bottom:1px solid black; overflow: hidden;\"></span>\n",
    "    <span style = \"position:relative;display:inline-block; width:400px; height: 30px; border-bottom:1px solid black; overflow: hidden;\"></span>\n",
    "    <span style = \"position:relative;display:inline-block; width:400px; height: 30px; border-bottom:1px solid black; overflow: hidden;\"></span>\n",
    "    \n",
    "\n",
    "</div>"
   ]
  },
  {
   "cell_type": "markdown",
   "id": "a400e082",
   "metadata": {},
   "source": [
    "<div style =\"margin: 0px 25%; position: relative; display: block; text-indent: 0; width: 400px; height:305px; \n",
    "             border:1px solid black; overflow: hidden;\">\n",
    "    <span style = \"position:absolute; width:80px; height:350px; border:1px solid black; \" ><span style = \"position:relative;display:inline-block; width:400px; height: 30px; border-bottom:1px solid black; margin:0px 0px; overflow: hidden;\"></span></span>\n",
    "    <span style = \"position:absolute; width:40px; height:350px; border:1px solid black; margin-left:80px; overflow: hidden; padding-left:10px; \" >\n",
    "        <span style = \" position:absolute; width:40px; height:30px; padding-top:3px; font-size:25px;\">a</span>\n",
    "    </span>\n",
    "    <span style = \"position:absolute; width:40px; height:350px; border:1px solid black; margin-left:120px; overflow: hidden; padding-left:10px;\" >\n",
    "        <span style = \" position:absolute; width:40px; height:30px; padding-top:3px; font-size:25px;\">b</span>\n",
    "    </span>\n",
    "    <span style = \"position:absolute; width:40px; height:350px; border:1px solid black; margin-left:160px; overflow: hidden; padding-left:10px;\" >\n",
    "    <span style = \" position:absolute; width:40px; height:30px; padding-top:3px; font-size:25px;\">c</span>\n",
    "    </span>\n",
    "    <span style = \"position:absolute; width:40px; height:350px; border:1px solid black; margin-left:200px; overflow: hidden; padding-left:10px;\" >\n",
    "    <span style = \" position:absolute; width:40px; height:30px; padding-top:3px; font-size:25px;\">d</span>\n",
    "    </span>\n",
    "    <span style = \"position:absolute; width:40px; height:350px; border:1px solid black; margin-left:240px; overflow: hidden;padding-left:10px; \" >\n",
    "    <span style = \" position:absolute; width:40px; height:30px; padding-top:3px; font-size:25px;\">e</span>\n",
    "    </span>\n",
    "    <span style = \"position:absolute; width:40px; height:350px; border:1px solid black; margin-left:280px; overflow: hidden;padding-left:10px; \" >\n",
    "    <span style = \" position:absolute; width:40px; height:30px; padding-top:3px; font-size:25px;\">f</span>\n",
    "    </span>\n",
    "    <span style = \"position:absolute; width:40px; height:350px; border:1px solid black; margin-left:320px; overflow: hidden; padding-left:10px;\" >\n",
    "    <span style = \" position:absolute; width:40px; height:30px; padding-top:3px; font-size:25px;\">g</span>\n",
    "    </span>\n",
    "    <span style = \"position:absolute; width:40px; height:350px; border:1px solid black; margin-left:360px; overflow: hidden; padding-left:10px;\" >\n",
    "    <span style = \" position:absolute; width:40px; height:30px; padding-top:3px; font-size:25px;\">h</span>\n",
    "    </span>\n",
    "    <! -- partie 2 -->\n",
    "    <span style = \"position:relative;display:inline-block; width:400px; height: 30px; border-bottom:1px solid black; margin-top:30px; overflow: hidden;\">\n",
    "    <span style = \"position:absolute; width:40px; height:35px; padding-top:5px; font-size:25px; padding-left:20px; \">Init</span>\n",
    "     <span style = \"position:absolute; width:40px; height:35px; padding-top:5px; font-size:25px; padding-left:20px; margin-left:70px \"><span><span></span></span></span>\n",
    "    </span>\n",
    "    <span style = \"position:relative;display:inline-block; width:400px; height: 30px; border-bottom:1px solid black; overflow: hidden;\">\n",
    "        <span style = \"position:absolute; width:40px; height:35px; padding-top:3px; font-size:25px; padding-left:30px; \"></span>\n",
    "    </span>\n",
    "    <span style = \"position:relative;display:inline-block; width:400px; height: 30px; border-bottom:1px solid black; overflow: hidden;\">\n",
    "    </span>\n",
    "    <span style = \"position:relative;display:inline-block; width:400px; height: 30px; border-bottom:1px solid black; overflow: hidden;\"></span>\n",
    "    <span style = \"position:relative;display:inline-block; width:400px; height: 30px; border-bottom:1px solid black; overflow: hidden;\"></span>\n",
    "    <span style = \"position:relative;display:inline-block; width:400px; height: 30px; border-bottom:1px solid black; overflow: hidden;\"></span>\n",
    "    <span style = \"position:relative;display:inline-block; width:400px; height: 30px; border-bottom:1px solid black; overflow: hidden;\"></span>\n",
    "    <span style = \"position:relative;display:inline-block; width:400px; height: 30px; border-bottom:1px solid black; overflow: hidden;\"></span>\n",
    "    \n",
    "\n",
    "</div>"
   ]
  },
  {
   "cell_type": "code",
   "execution_count": null,
   "id": "bc2bf3c4",
   "metadata": {},
   "outputs": [],
   "source": []
  }
 ],
 "metadata": {
  "kernelspec": {
   "display_name": "Python 3 (ipykernel)",
   "language": "python",
   "name": "python3"
  },
  "language_info": {
   "codemirror_mode": {
    "name": "ipython",
    "version": 3
   },
   "file_extension": ".py",
   "mimetype": "text/x-python",
   "name": "python",
   "nbconvert_exporter": "python",
   "pygments_lexer": "ipython3",
   "version": "3.10.4"
  }
 },
 "nbformat": 4,
 "nbformat_minor": 5
}
