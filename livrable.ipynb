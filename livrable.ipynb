{
 "cells": [
  {
   "cell_type": "markdown",
   "id": "2779a6e9",
   "metadata": {},
   "source": [
    "<div style=\" color: white; text-align:center; font-size:30px; border-radius:20px; background: rgb(63,94,251);\n",
    "background: linear-gradient(90deg, rgba(63,94,251,1) 0%, rgba(70,245,252,0.9251050762101716) 100%); height:90px; justify-content: center; align-self:center; padding-top:35px; border:1px solid black; width: 90% ; margin-left:5%; text-decoration:underline; \">Plus court chemin : Dijkstra</div>\n",
    "<p style=\"font-style:italic; text-align:center\">Projet realisé par : CAMARA Moustapha et BUZURA Darius</p><hr>\n",
    "<p style = \"text-indent:25px;\" >Dans les cadre de la <a style = \"color:blue; font-style:italic; text-decoration:none; font-weight:bold\" href= \"https://www.ataraxy.info/COEUR/Modules/MethodesNumeriques/SAE/Catalogue.pdf\" >SAE 2.02 : Exploitation algorithmique d'un problème</a> nous étions chargé de réaliser un projet mathématique, de démontrer un thèoréme mathématique graçe à l'informatique. Nous avons choisi de réaliser le projet : Plus court chemin graçe à Dijkstra qui étais disponible dans le catalogue de sujets mises à notre disposition. Nous étions encadrées par Madame NASSIET Aurelie.</p><br>\n",
    "\n",
    "<p>La description qu nou à été donnée : </p>\n",
    "<ul>\n",
    "    <li style = \"font-weight:bold\">Niveau de difficulté : <span style = \"font-weight:normal\">☆</span></li><br>\n",
    "    <li style = \"font-weight:bold\">Description : <span style = \"font-weight:normal\">Étant donné un graphe (orienté ou non) nous avons vu une méthode permettant de\n",
    "déterminer les plus court chemin partant de n'importe quel sommet. C'est l'algorithme de Dijkstra</span></li><br>\n",
    "    <li style = \"font-weight:bold\">Animation : <span style = \"font-weight:normal\">Les diférentes étapes de l'algorithme sur un graphe pris au hasard ou saisi par l'utilisateur</span></li>\n",
    "</ul>\n"
   ]
  },
  {
   "cell_type": "markdown",
   "id": "77d6e06b",
   "metadata": {},
   "source": [
    "<div style= \"height: 50px; background: rgb(63,94,251);\n",
    "background: linear-gradient(90deg, rgba(63,94,251,1) 0%, rgba(67,167,252,1) 51%, rgba(70,92,252,0.9251050762101716) 100%); width: 350px; border-radius: 20px; text-align:center; padding-top:15px; border: 1px solid black; color:white;\">Les bibliothèques dont nous avons eu besoin :</div>\n",
    "<p>Merci de bien les éxecuter des le début pour éviter les erreurs.</p>"
   ]
  },
  {
   "cell_type": "code",
   "execution_count": 2,
   "id": "055353dc",
   "metadata": {},
   "outputs": [],
   "source": [
    "import random\n",
    "import string\n",
    "from matplotlib.pyplot import *"
   ]
  },
  {
   "cell_type": "markdown",
   "id": "e438e08b",
   "metadata": {},
   "source": [
    "<h1>Choix de la structure des données :</h1>\n",
    "<p style =\"text-indent:20px\" >Tout d'abord nous avons réfléchi à comment ranger les données que nous utilisons. Travailler avec des tableaux ou avec des dictionnaires ? Le fait que nous traitons des noms de sommets / points qui sont de type <code>String</code> et des distances qui sont de type <code>Int</code> nous permettait pas vraiment d'utiliser des tableaux. Cela aurait pu être possible mais avec des algorithmes énormes qui auraient énormément ralenti notre recherche. Il aurait fallu choisir des données de plusieurs tableaux et les regrouper ...</p>\n",
    "<p style = \"text-indent:5px \"> Finalement, notre choix qui nous semblait le plus adapté était de choisir des dictionnaires.</p>\n",
    "<p>Prenons un dictionnaire de points</p>\n",
    "<code>points = {}</code>\n",
    "<p>ensuite un point sera la clé (*1), qui aura en valeur un dictionnaire contenant des points en tant que clé (*2) et des distances entre clé (*1) et clé (*2)</p>"
   ]
  },
  {
   "cell_type": "code",
   "execution_count": 17,
   "id": "9dc54ef8",
   "metadata": {},
   "outputs": [
    {
     "name": "stdout",
     "output_type": "stream",
     "text": [
      "Voici la structure sur la quelle nous nous sommes bassée :\n",
      "dict_items([('A', {'B': 3})])\n"
     ]
    }
   ],
   "source": [
    "points = {}\n",
    "#ensuite nous allons alimenter ce dictionnaire avec un point A et un point B et la distance de A vers B\n",
    "points['A'] = {'B' : 3}\n",
    "print(\"Voici la structure sur la quelle nous nous sommes bassée :\")\n",
    "print(points.items())"
   ]
  },
  {
   "cell_type": "markdown",
   "id": "99c35f2d",
   "metadata": {},
   "source": [
    "<p>Sauf que B avec une distance de 3, n'est pas les seul point qui peut être relié à  A ! </p>\n",
    "<p style = \"font-weight:bold\"> Relions A à d'autres points :</p>"
   ]
  },
  {
   "cell_type": "code",
   "execution_count": 21,
   "id": "57ee2b1d",
   "metadata": {},
   "outputs": [
    {
     "name": "stdout",
     "output_type": "stream",
     "text": [
      "dict_items([('A', {'B': 3, 'C': 5, 'D': 6})])\n"
     ]
    }
   ],
   "source": [
    "points['A'] = {'B' : 3, 'C' : 5, 'D' : 6}\n",
    "print(points.items())\n",
    "# A est reliée à B, C, D avec des sitances différentes "
   ]
  },
  {
   "cell_type": "markdown",
   "id": "430700ff",
   "metadata": {},
   "source": [
    "<h3>Nous avons ensuite divisé en deux parties, une partie de graphe saisi par l'utilisateur et une partie genéré aléatoire</h3>"
   ]
  },
  {
   "cell_type": "markdown",
   "id": "4e801e52",
   "metadata": {},
   "source": [
    "<h1>PARTIE 1 : Saisie par l'utilisateur : </h1>"
   ]
  },
  {
   "cell_type": "markdown",
   "id": "d87eecd9",
   "metadata": {},
   "source": [
    "<p style = \"text-indent: 25px\"> Le programme suivant semblait être le plus adapté à représenter l'algorithme de dijkstra car il prend en compte les noms des points plus leurs distances. D’autres algorithmes ne prennent pas en compte les noms des points en utilisant que des listes. L’utilisation de dictionnaire était donc selon nous la meilleure solution.</p>"
   ]
  },
  {
   "cell_type": "code",
   "execution_count": 23,
   "id": "3a85ed9f",
   "metadata": {},
   "outputs": [],
   "source": [
    "#algorithme de dijkstra\n",
    "def dijkstra(matrice, source):\n",
    "    assert all(matrice[u][v] >= 0 for u in matrice.keys() for v in matrice[u].keys())\n",
    "    precedent = {x:None for x in matrice.keys()}\n",
    "    dejaTraite = {x:False for x in matrice.keys()}\n",
    "    distance =  {x:float('inf') for x in matrice.keys()}\n",
    "    distance[source] = 0\n",
    "    a_traiter = [(0, source)]\n",
    "    while a_traiter:\n",
    "        dist_noeud, noeud = a_traiter.pop()\n",
    "        if not dejaTraite[noeud]:\n",
    "            dejaTraite[noeud] = True\n",
    "            for voisin in matrice[noeud].keys():\n",
    "                dist_voisin = dist_noeud + matrice[noeud][voisin]\n",
    "                if dist_voisin < distance[voisin]:\n",
    "                    distance[voisin] = dist_voisin\n",
    "                    precedent[voisin] = noeud\n",
    "                    a_traiter.append((dist_voisin, voisin))\n",
    "        a_traiter.sort(reverse=True)\n",
    "    return distance, precedent"
   ]
  },
  {
   "cell_type": "markdown",
   "id": "2f463316",
   "metadata": {},
   "source": [
    "<p>À partir de s’est distancé et c’est précédent nous allons pouvoir organiser notre rendu de manière plus ordonné en montrant les différents  points Par lesquelles nous sommes passés pour arriver à notre point d’arriver plus la distance parcourue</p>"
   ]
  },
  {
   "cell_type": "code",
   "execution_count": 24,
   "id": "c09ff590",
   "metadata": {},
   "outputs": [],
   "source": [
    "#obtenir le trajet a effectué\n",
    "def trajet(precedent,arriver):\n",
    "    tab=[arriver]\n",
    "    while precedent.get(tab[-1]) is not None:\n",
    "        tab.append(precedent.get(tab[-1]))\n",
    "    tab.reverse()\n",
    "    return tab"
   ]
  },
  {
   "cell_type": "code",
   "execution_count": 25,
   "id": "0bc68e48",
   "metadata": {},
   "outputs": [],
   "source": [
    "#obtenir le trajet à effectuer + sa distance\n",
    "\n",
    "def  dijkstra_final(matrice,depart,arriver):\n",
    "    distance, precedent = dijkstra(matrice,depart)\n",
    "    print(matrice)\n",
    "    return trajet(precedent,arriver),distance.get(arriver)\n"
   ]
  },
  {
   "cell_type": "markdown",
   "id": "30926b5a",
   "metadata": {},
   "source": [
    "<h1>Démontrons avec un problème concret :</h1>"
   ]
  },
  {
   "cell_type": "markdown",
   "id": "8b7b0f80",
   "metadata": {},
   "source": [
    "<p>Un jour nous avons decidé de prendre notre voiture et faire le trajet Paris-Marseille. Nous souhaitons trouver le chemin le plus rapide tout en vistant d'autres villes pendant notre trajet.</p>"
   ]
  },
  {
   "cell_type": "markdown",
   "id": "df565ed7",
   "metadata": {},
   "source": [
    "<img src=\"image1.png\" style=\"width:500px; height:300px\">"
   ]
  },
  {
   "cell_type": "markdown",
   "id": "d63f0dda",
   "metadata": {},
   "source": [
    "<h3>Comment l'algorithme de Dijkstra pourait nous aider à résoudre ce problème ?</h3>\n",
    "<p>Tout d'abord, nous allons placer les points sur les viller par lesquelles nous allons potontiellement passer.Tout en restant dans l'ambiance des graphes, on va les considèrer les points placées, comme des sommets d'un graphe.</p>"
   ]
  },
  {
   "cell_type": "markdown",
   "id": "ced26485",
   "metadata": {},
   "source": [
    "<img src=\"image2.png\" style=\"width:500px; height:300px\">"
   ]
  },
  {
   "cell_type": "markdown",
   "id": "d6ff9207",
   "metadata": {},
   "source": [
    "<p>Maintenant il faudrait bien relier par des routes ces villes (on relient les sommets du graphe)</p>"
   ]
  },
  {
   "cell_type": "markdown",
   "id": "3f3cecf5",
   "metadata": {},
   "source": [
    "<img src=\"image3.png\" style=\"width:500px; height:300px\">"
   ]
  },
  {
   "cell_type": "code",
   "execution_count": 28,
   "id": "293cf8fc",
   "metadata": {},
   "outputs": [
    {
     "name": "stdout",
     "output_type": "stream",
     "text": [
      "{'PARIS': {'LYON': 3, 'RENNE': 12}, 'LYON': {'PARIS': 3, 'MARSEILLE': 5, 'NICE': 2}, 'NICE': {'LYON': 2, 'MARSEILLE': 1}, 'RENNE': {'MARSEILLE': 4, 'PARIS': 12}, 'MARSEILLE': {'NICE': 1, 'RENNE': 4}}\n",
      "voici le trajet , avec la distance totale et les villes parcourues : (['PARIS', 'LYON', 'NICE', 'MARSEILLE'], 6)\n"
     ]
    }
   ],
   "source": [
    "\n",
    "france={}\n",
    "france['PARIS']={'LYON':3,'RENNE':12}\n",
    "france['LYON']={'PARIS':3,'MARSEILLE':5,'NICE':2}\n",
    "france['NICE']={'LYON':2,'MARSEILLE':1}\n",
    "\n",
    "france['RENNE']={'MARSEILLE':4,'PARIS':12}\n",
    "france['MARSEILLE']={'NICE':1,'RENNE':4}\n",
    "   \n",
    "print(\"voici le trajet , avec la distance totale et les villes parcourues :\", str(dijkstra_final(france,'PARIS','MARSEILLE')))"
   ]
  },
  {
   "cell_type": "code",
   "execution_count": null,
   "id": "42a4e20f",
   "metadata": {},
   "outputs": [],
   "source": []
  }
 ],
 "metadata": {
  "kernelspec": {
   "display_name": "Python 3 (ipykernel)",
   "language": "python",
   "name": "python3"
  },
  "language_info": {
   "codemirror_mode": {
    "name": "ipython",
    "version": 3
   },
   "file_extension": ".py",
   "mimetype": "text/x-python",
   "name": "python",
   "nbconvert_exporter": "python",
   "pygments_lexer": "ipython3",
   "version": "3.10.4"
  }
 },
 "nbformat": 4,
 "nbformat_minor": 5
}
