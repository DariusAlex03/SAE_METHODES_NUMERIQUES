{
 "cells": [
  {
   "cell_type": "markdown",
   "id": "2779a6e9",
   "metadata": {},
   "source": [
    "<div style=\" color: white; text-align:center; font-size:30px; border-radius:20px; background: rgb(63,94,251);\n",
    "background: linear-gradient(90deg, rgba(63,94,251,1) 0%, rgba(70,245,252,0.9251050762101716) 100%); height:90px; justify-content: center; align-self:center; padding-top:35px; border:1px solid black; width: 90% ; margin-left:5%; text-decoration:underline; \">Plus court chemin : Dijkstra</div>\n",
    "<p style=\"font-style:italic; text-align:center\">Projet realisé par : CAMARA Moustapha et BUZURA Darius</p><hr>\n",
    "<p style = \"text-indent:25px;\" >Dans les cadre de la <a style = \"color:blue; font-style:italic; text-decoration:none; font-weight:bold;\" href= \"https://www.ataraxy.info/COEUR/Modules/MethodesNumeriques/SAE/Catalogue.pdf\" >SAE 2.02 : Exploitation algorithmique d'un problème</a> nous étions chargé de réaliser un projet mathématique, de démontrer un thèoréme mathématique graçe à l'informatique. Nous avons choisi de réaliser le projet : Plus court chemin grâce à Dijkstra qui étais disponible dans le catalogue de sujets mises à notre disposition. Nous étions encadrées par Madame NASSIET Aurelie.</p><br>\n",
    "\n",
    "<p>La description qu nou à été donnée : </p>\n",
    "<ul>\n",
    "    <li style = \"font-weight:bold\">Niveau de difficulté : <span style = \"font-weight:normal\">☆</span></li><br>\n",
    "    <li style = \"font-weight:bold\">Description : <span style = \"font-weight:normal\">Étant donné un graphe (orienté ou non) nous avons vu une méthode permettant de\n",
    "déterminer les plus court chemin partant de n'importe quel sommet. C'est l'algorithme de Dijkstra</span></li><br>\n",
    "    <li style = \"font-weight:bold\">Animation : <span style = \"font-weight:normal\">Les différentes étapes de l'algorithme sur un graphe pris au hasard ou saisi par l'utilisateur</span></li>\n",
    "</ul>\n",
    "<p><span style = \"font-weight:bold\">Durée de travail et organisation : </span><span>Nous avons travaillé environ 15h sur ce projet, et nous nous sommes réunis plusieurs fois à la Bibliothèque Universitaire pour la recherche des solutions et l'organisation du travail, ensuite chacun devait rendre son travail à un certaine deadline pour le mettre en commun. La répartition des tâches étais équivalente sur chaque partie.</span></p>\n",
    "\n",
    "<p style = \"font-style:italic;\">Attention : Pour maintenir une bonne lisibilité et un bon affichage des images, merci de bien garder les images qui se trouvent dans le même dossier que le document en <code>.html</code> et <code>.ipynb</code> .</p>\n"
   ]
  },
  {
   "cell_type": "markdown",
   "id": "77d6e06b",
   "metadata": {},
   "source": [
    "<div style= \"height: 50px; background: rgb(63,94,251);\n",
    "background: linear-gradient(90deg, rgba(63,94,251,1) 0%, rgba(67,167,252,1) 51%, rgba(70,92,252,0.9251050762101716) 100%); width: 350px; border-radius: 20px; text-align:center; padding-top:15px; border: 1px solid black; color:white;\">Les bibliothèques dont nous avons eu besoin :</div>\n",
    "<p style = \"font-style:italic;\">Merci de bien les exécuter dès le début pour éviter les erreurs.</p>"
   ]
  },
  {
   "cell_type": "code",
   "execution_count": 44,
   "id": "055353dc",
   "metadata": {},
   "outputs": [],
   "source": [
    "import random\n",
    "import string\n",
    "from matplotlib.pyplot import *\n",
    "from IPython.display import HTML\n",
    "import matplotlib.animation as animation\n",
    "from matplotlib import image \n",
    "import matplotlib.pyplot as plt"
   ]
  },
  {
   "cell_type": "markdown",
   "id": "5073bac3",
   "metadata": {},
   "source": [
    "<h1>Choix de la structure des données :</h1>\n",
    "<p style =\"text-indent:20px\" >Tout d'abord nous avons réfléchi à comment ranger les données que nous utilisons. Travailler avec des tableaux ou avec des dictionnaires ? Le fait que nous traitons des noms de sommets / points qui sont de type <code>String</code> et des distances qui sont de type <code>Int</code> nous permettait pas vraiment d'utiliser des tableaux. Cela aurait pu être possible mais avec des algorithmes énormes qui auraient énormément ralenti notre recherche. Il aurait fallu choisir des données de plusieurs tableaux et les regrouper ...</p>\n",
    "<p style = \"text-indent:5px \"> Finalement, notre choix qui nous semblait le plus adapté était de choisir des dictionnaires.</p>\n",
    "<p>Prenons un dictionnaire de points</p>\n",
    "<code>points = {}</code>\n",
    "<p>ensuite un point sera la clé (*1), qui aura en valeur un dictionnaire contenant des points en tant que clé (*2) et des distances entre clé (*1) et clé (*2)</p>"
   ]
  },
  {
   "cell_type": "code",
   "execution_count": 23,
   "id": "01db878b",
   "metadata": {},
   "outputs": [
    {
     "name": "stdout",
     "output_type": "stream",
     "text": [
      "Voici la structure sur la quelle nous nous sommes bassée :\n",
      "dict_items([('A', {'B': 3})])\n"
     ]
    }
   ],
   "source": [
    "points = {}\n",
    "#ensuite nous allons alimenter ce dictionnaire avec un point A et un point B et la distance de A vers B\n",
    "points['A'] = {'B' : 3}\n",
    "print(\"Voici la structure sur la quelle nous nous sommes bassée :\")\n",
    "print(points.items())"
   ]
  },
  {
   "cell_type": "markdown",
   "id": "e9a26153",
   "metadata": {},
   "source": [
    "<p>Sauf que B avec une distance de 3, n'est pas les seul point qui peut être relié à  A ! </p>\n",
    "<p style = \"font-weight:bold\"> Relions A à d'autres points :</p>"
   ]
  },
  {
   "cell_type": "code",
   "execution_count": 24,
   "id": "b078c1a6",
   "metadata": {},
   "outputs": [
    {
     "name": "stdout",
     "output_type": "stream",
     "text": [
      "dict_items([('A', {'B': 3, 'C': 5, 'D': 6})])\n"
     ]
    }
   ],
   "source": [
    "points['A'] = {'B' : 3, 'C' : 5, 'D' : 6}\n",
    "print(points.items())\n",
    "# A est reliée à B, C, D avec des sitances différentes "
   ]
  },
  {
   "cell_type": "markdown",
   "id": "9045640b",
   "metadata": {},
   "source": [
    "<h3>Nous avons ensuite divisé en deux parties, une partie de graphe saisi par l'utilisateur et une partie généré aléatoire</h3>"
   ]
  },
  {
   "cell_type": "markdown",
   "id": "255222e9",
   "metadata": {},
   "source": [
    "<div style = \"height: 60px; background: rgb(63,94,251);\n",
    "background: linear-gradient(90deg, rgba(63,94,251,1) 0%, rgba(67,167,252,1) 51%, rgba(70,92,252,0.9251050762101716) 100%); width: 80%; border-radius: 20px; text-align:center; padding-top:20px; border: 1px solid black; color:white; font-size:30px; margin-left:10%;\" >PARTIE 1 : Saisie par l'utilisateur : </div>"
   ]
  },
  {
   "cell_type": "markdown",
   "id": "781eb150",
   "metadata": {},
   "source": [
    "<p style = \"text-indent: 25px\"> Le programme suivant semblait être le plus adapté à représenter l'algorithme de dijkstra car il prend en compte les noms des points plus leurs distances. D’autres algorithmes ne prennent pas en compte les noms des points en utilisant que des listes. L’utilisation de dictionnaire était donc selon nous la meilleure solution.</p>"
   ]
  },
  {
   "cell_type": "code",
   "execution_count": 37,
   "id": "6e7146e1",
   "metadata": {},
   "outputs": [],
   "source": [
    "#algorithme de dijkstra\n",
    "def dijkstra(matrice, source):\n",
    "    assert all(matrice[u][v] >= 0 for u in matrice.keys() for v in matrice[u].keys())\n",
    "    precedent = {x:None for x in matrice.keys()}\n",
    "    dejaTraite = {x:False for x in matrice.keys()}\n",
    "    distance =  {x:float('inf') for x in matrice.keys()}\n",
    "    distance[source] = 0\n",
    "    a_traiter = [(0, source)]\n",
    "    while a_traiter:\n",
    "        dist_noeud, noeud = a_traiter.pop()\n",
    "        if not dejaTraite[noeud]:\n",
    "            dejaTraite[noeud] = True\n",
    "            for voisin in matrice[noeud].keys():\n",
    "                dist_voisin = dist_noeud + matrice[noeud][voisin]\n",
    "                if dist_voisin < distance[voisin]:\n",
    "                    distance[voisin] = dist_voisin\n",
    "                    precedent[voisin] = noeud\n",
    "                    a_traiter.append((dist_voisin, voisin))\n",
    "        a_traiter.sort(reverse=True)\n",
    "    return distance, precedent"
   ]
  },
  {
   "cell_type": "markdown",
   "id": "d5007b4c",
   "metadata": {},
   "source": [
    "<p>À partir de s’est distancé et c’est précédent nous allons pouvoir organiser notre rendu de manière plus ordonné en montrant les différents  points Par lesquelles nous sommes passés pour arriver à notre point d’arriver plus la distance parcourue</p>"
   ]
  },
  {
   "cell_type": "code",
   "execution_count": 38,
   "id": "ed6e399b",
   "metadata": {},
   "outputs": [],
   "source": [
    "#obtenir le trajet a effectué\n",
    "def trajet(precedent,arriver):\n",
    "    tab=[arriver]\n",
    "    while precedent.get(tab[-1]) is not None:\n",
    "        tab.append(precedent.get(tab[-1]))\n",
    "    tab.reverse()\n",
    "    return tab"
   ]
  },
  {
   "cell_type": "code",
   "execution_count": 39,
   "id": "d794b4c7",
   "metadata": {},
   "outputs": [],
   "source": [
    "#obtenir le trajet à effectuer + sa distance\n",
    "\n",
    "def  dijkstra_final(matrice,depart,arriver):\n",
    "    distance, precedent = dijkstra(matrice,depart)\n",
    "    print(matrice)\n",
    "    return trajet(precedent,arriver),distance.get(arriver)\n"
   ]
  },
  {
   "cell_type": "markdown",
   "id": "30926b5a",
   "metadata": {},
   "source": [
    "<h1>Démontrons avec un problème concret :</h1>"
   ]
  },
  {
   "cell_type": "markdown",
   "id": "8b7b0f80",
   "metadata": {},
   "source": [
    "<p>Un jour nous avons décidé de prendre notre voiture et de faire le trajet Paris-Marseille. Nous souhaitons trouver le chemin le plus rapide tout en visitant d'autres villes pendant notre trajet.</p>"
   ]
  },
  {
   "cell_type": "markdown",
   "id": "df565ed7",
   "metadata": {},
   "source": [
    "<img src=\"image1.png\" style=\"width:500px; height:300px\">"
   ]
  },
  {
   "cell_type": "markdown",
   "id": "d63f0dda",
   "metadata": {},
   "source": [
    "<h3>Comment l'algorithme de Dijkstra pourrait nous aider à résoudre ce problème ?</h3>\n",
    "<p>Tout d'abord, nous allons placer les points sur les villes par lesquelles nous allons potentiellement passer.Tout en restant dans l'ambiance des graphes, on va les considérer les points placées, comme des sommets d'un graphe.</p>"
   ]
  },
  {
   "cell_type": "markdown",
   "id": "ced26485",
   "metadata": {},
   "source": [
    "<img src=\"image2.png\" style=\"width:500px; height:300px\">"
   ]
  },
  {
   "cell_type": "markdown",
   "id": "d6ff9207",
   "metadata": {},
   "source": [
    "<p>Maintenant il faudrait bien relié par des routes ces villes (on relient les sommets du graphe)</p>"
   ]
  },
  {
   "cell_type": "markdown",
   "id": "3f3cecf5",
   "metadata": {},
   "source": [
    "<img src=\"image3.png\" style=\"width:500px; height:300px\">"
   ]
  },
  {
   "cell_type": "code",
   "execution_count": 28,
   "id": "293cf8fc",
   "metadata": {},
   "outputs": [
    {
     "name": "stdout",
     "output_type": "stream",
     "text": [
      "{'PARIS': {'LYON': 5, 'NANTES': 4, 'LILLE': 2, 'TOULOUSE': 7}, 'LYON': {'PARIS': 5, 'MONTPELLIER': 5, 'NICE': 5}, 'NICE': {'LYON': 5, 'MARSEILLE': 3}, 'LILLE': {'PARIS': 2, 'MARSEILLE': 14}, 'NANTES': {'MARSEILLE': 9, 'PARIS': 4, 'TOULOUSE': 6}, 'MARSEILLE': {'NICE': 3, 'LILLE': 14, 'MONTPELLIER': 2}, 'MONTPELLIER': {'MARSEILLE': 2, 'TOULOUSE': 4, 'LYON': 5, 'NANTES': 9}, 'TOULOUSE': {'PARIS': 7, 'NANTES': 6, 'MONTPELLIER': 4}}\n",
      "Le trajet retenu avec la distance totale et les villes parcourues est : (['PARIS', 'LYON', 'MONTPELLIER', 'MARSEILLE'], 12)\n"
     ]
    }
   ],
   "source": [
    "\n",
    "france={}\n",
    "france['PARIS']={'LYON':5,'NANTES':4, 'LILLE':2, 'TOULOUSE':7}\n",
    "france['LYON']={'PARIS':5,'MONTPELLIER':5,'NICE':5}\n",
    "france['NICE']={'LYON':5,'MARSEILLE':3}\n",
    "france['LILLE']={'PARIS':2,'MARSEILLE':14}\n",
    "france['NANTES']={'MARSEILLE':9,'PARIS':4, 'TOULOUSE':6}\n",
    "france['MARSEILLE']={'NICE':3,'LILLE':14, 'MONTPELLIER':2}\n",
    "france['MONTPELLIER']={'MARSEILLE':2,'TOULOUSE' : 4, 'LYON': 5, 'NANTES': 9}\n",
    "france['TOULOUSE']={'PARIS': 7, 'NANTES':6, 'MONTPELLIER':4}\n",
    "   \n",
    "print(\"Le trajet retenu avec la distance totale et les villes parcourues est :\", str(dijkstra_final(france,'PARIS','MARSEILLE')))"
   ]
  },
  {
   "cell_type": "markdown",
   "id": "96298283",
   "metadata": {},
   "source": [
    "<img src=\"image10.png\" style=\"width:500px; height:300px\">"
   ]
  },
  {
   "cell_type": "markdown",
   "id": "80ab10ea",
   "metadata": {},
   "source": [
    "<h3>Animation : (tentative)</h3>"
   ]
  },
  {
   "cell_type": "code",
   "execution_count": 46,
   "id": "ec280978",
   "metadata": {},
   "outputs": [
    {
     "data": {
      "image/png": "[encoded data removed]",
      "text/plain": [
       "<Figure size 432x288 with 1 Axes>"
      ]
     },
     "metadata": {
      "needs_background": "light"
     },
     "output_type": "display_data"
    },
    {
     "data": {
      "image/png": "[encoded data removed]",
      "text/plain": [
       "<Figure size 432x288 with 1 Axes>"
      ]
     },
     "metadata": {
      "needs_background": "light"
     },
     "output_type": "display_data"
    },
    {
     "data": {
      "image/png": "[encoded data removed]",
      "text/plain": [
       "<Figure size 432x288 with 1 Axes>"
      ]
     },
     "metadata": {
      "needs_background": "light"
     },
     "output_type": "display_data"
    }
   ],
   "source": [
    "###############################################\n",
    "#        INITIALISATION DE LA FENETRE         #\n",
    "###############################################\n",
    "fig = figure()\n",
    "\n",
    "\n",
    "title(\"Représentation d'un graphe\") \n",
    "\n",
    "    \n",
    "grid(False)\n",
    "\n",
    "###############################################\n",
    "#           MA FONCTION D'ANIMATION           #\n",
    "###############################################\n",
    "\n",
    "\n",
    "def MonAnimation() :\n",
    "    i = 4\n",
    "    while i < 7:\n",
    "        ima = \"image\"+str(i)+\".png\"\n",
    "        img = image.imread(ima)\n",
    "        plt.imshow(img)\n",
    "        plt.show()\n",
    "        i += 1\n",
    "    return ()\n",
    "\n",
    "MonAnimation()\n",
    "\n",
    "###############################################\n",
    "#           CREATION DE L'ANIMATION           #\n",
    "###############################################\n",
    "ani = animation.FuncAnimation(fig, MonAnimation)"
   ]
  },
  {
   "cell_type": "markdown",
   "id": "3aa27fb3",
   "metadata": {},
   "source": [
    "<div style = \"height: 60px; background: rgb(63,94,251);\n",
    "background: linear-gradient(90deg, rgba(63,94,251,1) 0%, rgba(67,167,252,1) 51%, rgba(70,92,252,0.9251050762101716) 100%); width: 80%; border-radius: 20px; text-align:center; padding-top:20px; border: 1px solid black; color:white; font-size:30px; margin-left:10%;\" >PARTIE 2 : Dijkstra aléatoire : </div>"
   ]
  },
  {
   "cell_type": "markdown",
   "id": "d67a7ebf",
   "metadata": {},
   "source": [
    "<p>Afin de générer une matrice aléatoire il nous faut tout d’abord générer des noms aléatoires.</p>"
   ]
  },
  {
   "cell_type": "code",
   "execution_count": 31,
   "id": "a05ffdd1",
   "metadata": {},
   "outputs": [
    {
     "name": "stdout",
     "output_type": "stream",
     "text": [
      "JJKTN\n"
     ]
    }
   ],
   "source": [
    "#obtenir une chaine de caractère aléatoire \n",
    "def chaine_alea(longueur):    \n",
    "    str = string.ascii_uppercase\n",
    "    return ''.join(random.choice(str) for i in range(longueur))\n",
    "print(chaine_alea(5))"
   ]
  },
  {
   "cell_type": "markdown",
   "id": "d5f40dab",
   "metadata": {},
   "source": [
    "<p>Il faut ensuite générer tous nos points .</p>"
   ]
  },
  {
   "cell_type": "code",
   "execution_count": 32,
   "id": "b158d68e",
   "metadata": {},
   "outputs": [
    {
     "name": "stdout",
     "output_type": "stream",
     "text": [
      "['YFATP', 'MNKHY', 'DLBMO', 'CUHFL', 'IZPGU', 'OSPZU']\n"
     ]
    }
   ],
   "source": [
    "#obtenir un tableau de chaine de caractère aléatoire\n",
    "\n",
    "def nom_points_aleatoire(longueur):\n",
    "\n",
    "    str = string.ascii_uppercase\n",
    "    tab = []\n",
    "    for i in range(longueur):\n",
    "        t = (chaine_alea(5))\n",
    "        j = 0\n",
    "        while j < len(tab):\n",
    "            if tab[j] == t :\n",
    "                t = (chaine_alea(5))\n",
    "            j += 1\n",
    "        tab.append(t)\n",
    "\n",
    "    return tab\n",
    "\n",
    "\n",
    "print(nom_points_aleatoire(6))"
   ]
  },
  {
   "cell_type": "markdown",
   "id": "dde8708f",
   "metadata": {},
   "source": [
    "<p>Les distances elles aussi sont générées aléatoirement de la manière suivante.</p>"
   ]
  },
  {
   "cell_type": "code",
   "execution_count": 33,
   "id": "1ef4c5b9",
   "metadata": {},
   "outputs": [
    {
     "name": "stdout",
     "output_type": "stream",
     "text": [
      "[40, 34, 37, 72, 74]\n"
     ]
    }
   ],
   "source": [
    "#obtenir un tableau de distance aléatoire\n",
    "\n",
    "\n",
    "def distances_aleatoire(taille):\n",
    "    tab_point_alea = []\n",
    "    i = 0\n",
    "    while i < int(taille):\n",
    "        tab_point_alea.append(random.randint(1,100))\n",
    "        i+= 1\n",
    "\n",
    "    return tab_point_alea\n",
    "\n",
    "print(distances_aleatoire(5))"
   ]
  },
  {
   "cell_type": "markdown",
   "id": "0a1584d0",
   "metadata": {},
   "source": [
    "<p>Il faut ensuite associer les distances au point.</p>"
   ]
  },
  {
   "cell_type": "code",
   "execution_count": 34,
   "id": "abe40b4d",
   "metadata": {},
   "outputs": [
    {
     "name": "stdout",
     "output_type": "stream",
     "text": [
      "{'OOJNY': 47, 'DGBQC': 19, 'HYTXS': 50, 'CROOE': 64, 'PBVNI': 19}\n"
     ]
    }
   ],
   "source": [
    "#couple distance + point\n",
    "\n",
    "def diagramme(points,tab):\n",
    "    k = tab\n",
    "    l = distances_aleatoire(points)\n",
    "    diag ={}\n",
    "    i = 0\n",
    "    while i <len(k):\n",
    "        diag.update({k[i] : l[i]})\n",
    "        i += 1\n",
    "    return diag\n",
    "    \n",
    "print(diagramme(5,nom_points_aleatoire(5)))"
   ]
  },
  {
   "cell_type": "markdown",
   "id": "5965c4cc",
   "metadata": {},
   "source": [
    "<p>On peut par la suite générer la matrice de la manière suivante.</p>"
   ]
  },
  {
   "cell_type": "code",
   "execution_count": 35,
   "id": "14138581",
   "metadata": {},
   "outputs": [
    {
     "name": "stdout",
     "output_type": "stream",
     "text": [
      "({'CLQEU': {'CLQEU': 21, 'LJIES': 61, 'IPIRQ': 61, 'AMOZA': 87, 'HPLKJ': 69}, 'LJIES': {'CLQEU': 43, 'LJIES': 29, 'IPIRQ': 99, 'AMOZA': 94, 'HPLKJ': 84}, 'IPIRQ': {'CLQEU': 42, 'LJIES': 53, 'IPIRQ': 15, 'AMOZA': 91, 'HPLKJ': 57}, 'AMOZA': {'CLQEU': 20, 'LJIES': 16, 'IPIRQ': 76, 'AMOZA': 41, 'HPLKJ': 38}, 'HPLKJ': {'CLQEU': 74, 'LJIES': 55, 'IPIRQ': 10, 'AMOZA': 81, 'HPLKJ': 82}}, dict_keys(['CLQEU', 'LJIES', 'IPIRQ', 'AMOZA', 'HPLKJ']))\n"
     ]
    }
   ],
   "source": [
    "#obtenir une matrice aléatoire\n",
    "\n",
    "def matrice_primaire_alea(nbr_de_point):\n",
    "    matrice_prim={}\n",
    "    a=nom_points_aleatoire(nbr_de_point)\n",
    "    i=0\n",
    "    while len(matrice_prim.keys())<nbr_de_point:\n",
    "        matrice_prim[a[i]] = diagramme(nbr_de_point,a)      \n",
    "        i+=1\n",
    "    return matrice_prim, matrice_prim.keys()\n",
    "print(matrice_primaire_alea(5))"
   ]
  },
  {
   "cell_type": "markdown",
   "id": "a38b374b",
   "metadata": {},
   "source": [
    "<p>Le programme suivant nous permet quand tu vas lui d’entrer les paramètres nécessaires le point d’arrivée le point de départ est le nombre de points pour ensuite effectuer l’algorithme de Dijkstra</p>"
   ]
  },
  {
   "cell_type": "code",
   "execution_count": 36,
   "id": "e25e97f0",
   "metadata": {},
   "outputs": [
    {
     "name": "stdout",
     "output_type": "stream",
     "text": [
      "combien de point voulez vous dans votre matrice?\n",
      "5\n",
      "les different point du graphe sont dict_keys(['OWRJM', 'OPGPD', 'VPPNN', 'FIOXS', 'SDCIW'])\n",
      "quel est votre point de depart?\n",
      "OWRJM\n",
      "quel est votre point d'arriver?\n",
      "FIOXS\n",
      "{'OWRJM': {'OWRJM': 55, 'OPGPD': 100, 'VPPNN': 24, 'FIOXS': 78, 'SDCIW': 13}, 'OPGPD': {'OWRJM': 64, 'OPGPD': 99, 'VPPNN': 23, 'FIOXS': 30, 'SDCIW': 69}, 'VPPNN': {'OWRJM': 74, 'OPGPD': 62, 'VPPNN': 70, 'FIOXS': 33, 'SDCIW': 56}, 'FIOXS': {'OWRJM': 72, 'OPGPD': 42, 'VPPNN': 96, 'FIOXS': 67, 'SDCIW': 49}, 'SDCIW': {'OWRJM': 10, 'OPGPD': 88, 'VPPNN': 43, 'FIOXS': 67, 'SDCIW': 79}}\n",
      "{'OWRJM': {'OWRJM': 55, 'OPGPD': 100, 'VPPNN': 24, 'FIOXS': 78, 'SDCIW': 13}, 'OPGPD': {'OWRJM': 64, 'OPGPD': 99, 'VPPNN': 23, 'FIOXS': 30, 'SDCIW': 69}, 'VPPNN': {'OWRJM': 74, 'OPGPD': 62, 'VPPNN': 70, 'FIOXS': 33, 'SDCIW': 56}, 'FIOXS': {'OWRJM': 72, 'OPGPD': 42, 'VPPNN': 96, 'FIOXS': 67, 'SDCIW': 49}, 'SDCIW': {'OWRJM': 10, 'OPGPD': 88, 'VPPNN': 43, 'FIOXS': 67, 'SDCIW': 79}}\n",
      "Le trajet finale est (['OWRJM', 'VPPNN', 'FIOXS'], 57)\n"
     ]
    }
   ],
   "source": [
    "#obtenir le trajet à effectuer + sa distance pour une matrice aléatoire\n",
    "\n",
    "def  dijkstra_final_aleatoire():\n",
    "    print(\"combien de point voulez vous dans votre matrice?\")\n",
    "    a, b=matrice_primaire_alea(int(input()))\n",
    "    \n",
    "    print(\"les different point du graphe sont\",b)\n",
    "    print(\"quel est votre point de depart?\")\n",
    "    depart=input()\n",
    "    print(\"quel est votre point d'arriver?\")\n",
    "    arriver=input()\n",
    "    print (a)\n",
    "    return \"Le trajet finale est \" + str(dijkstra_final(a,depart,arriver))\n",
    "    \n",
    "\n",
    "print(dijkstra_final_aleatoire())"
   ]
  },
  {
   "cell_type": "markdown",
   "id": "e7e7674e",
   "metadata": {},
   "source": [
    "<div style = \"height: 60px; background: rgb(63,94,251);\n",
    "background: linear-gradient(90deg, rgba(63,94,251,1) 0%, rgba(67,167,252,1) 51%, rgba(70,92,252,0.9251050762101716) 100%); width: 80%; border-radius: 20px; text-align:center; padding-top:20px; border: 1px solid black; color:white; font-size:30px; margin-left:10%;\" >PARTIE 3 : TABLEAU : </div>"
   ]
  },
  {
   "cell_type": "markdown",
   "id": "d337a474",
   "metadata": {},
   "source": [
    "<p>Prenons la représentation sagittale qui suit (elle à été généré sur le site <a style = \"color:blue; font-style:italic; text-decoration:none; font-weight:bold\" href = \"https://www.ataraxy.info/AlgoGraphe\">Ataraxy</a>.)</p>"
   ]
  },
  {
   "cell_type": "markdown",
   "id": "20b30f41",
   "metadata": {},
   "source": [
    "<img src=\"representation.png\" style=\"width:500px; height:200px\">"
   ]
  },
  {
   "cell_type": "markdown",
   "id": "a4f5d4bc",
   "metadata": {},
   "source": [
    "<p>L'application de l'algorithme de Dijkstra, est aussi possible grâce au tableau suivant.</p>\n",
    "<p>Prenons le tableau suivant. Nous allons placer dans l'ordre les points :</p>"
   ]
  },
  {
   "cell_type": "markdown",
   "id": "97f76943",
   "metadata": {},
   "source": [
    "<div style =\"margin: 0px 25%; position: relative; display: block; text-indent: 0; width: 400px; height:305px; \n",
    "             border:1px solid black; overflow: hidden;\">\n",
    "    <span style = \"position:absolute; width:80px; height:350px; border:1px solid black; \" ><span style = \"position:relative;display:inline-block; width:400px; height: 30px; border-bottom:1px solid black; margin:0px 0px; overflow: hidden;\"></span></span>\n",
    "    <span style = \"position:absolute; width:40px; height:350px; border:1px solid black; margin-left:80px; overflow: hidden; padding-left:10px; \" >\n",
    "        <span style = \" position:absolute; width:40px; height:30px; padding-top:3px; font-size:25px;\">x1</span>\n",
    "    </span>\n",
    "    <span style = \"position:absolute; width:40px; height:350px; border:1px solid black; margin-left:120px; overflow: hidden; padding-left:10px;\" >\n",
    "        <span style = \" position:absolute; width:40px; height:30px; padding-top:3px; font-size:25px;\">x2</span>\n",
    "    </span>\n",
    "    <span style = \"position:absolute; width:40px; height:350px; border:1px solid black; margin-left:160px; overflow: hidden; padding-left:10px;\" >\n",
    "    <span style = \" position:absolute; width:40px; height:30px; padding-top:3px; font-size:25px;\">x3</span>\n",
    "    </span>\n",
    "    <span style = \"position:absolute; width:40px; height:350px; border:1px solid black; margin-left:200px; overflow: hidden; padding-left:10px;\" >\n",
    "    <span style = \" position:absolute; width:40px; height:30px; padding-top:3px; font-size:25px;\">x4</span>\n",
    "    </span>\n",
    "    <span style = \"position:absolute; width:40px; height:350px; border:1px solid black; margin-left:240px; overflow: hidden;padding-left:10px; \" >\n",
    "    <span style = \" position:absolute; width:40px; height:30px; padding-top:3px; font-size:25px;\">x5</span>\n",
    "    </span>\n",
    "    <span style = \"position:absolute; width:40px; height:350px; border:1px solid black; margin-left:280px; overflow: hidden;padding-left:10px; \" >\n",
    "    <span style = \" position:absolute; width:40px; height:30px; padding-top:3px; font-size:25px;\">x6</span>\n",
    "    </span>\n",
    "    <span style = \"position:absolute; width:40px; height:350px; border:1px solid black; margin-left:320px; overflow: hidden; padding-left:10px;\" >\n",
    "    <span style = \" position:absolute; width:40px; height:30px; padding-top:3px; font-size:25px;\">x7</span>\n",
    "    </span>\n",
    "    <span style = \"position:absolute; width:40px; height:350px; border:1px solid black; margin-left:360px; overflow: hidden; padding-left:10px;\" >\n",
    "    <span style = \" position:absolute; width:40px; height:30px; padding-top:3px; font-size:25px;\">x8</span>\n",
    "    </span>\n",
    "    <! -- partie 2 -->\n",
    "    <span style = \"position:relative;display:inline-block; width:400px; height: 30px; border-bottom:1px solid black; margin-top:30px; overflow: hidden;\">\n",
    "    <span style = \"position:absolute; width:40px; height:35px; padding-top:5px; font-size:25px; padding-left:20px; \">Init</span>\n",
    "     <span style = \"position:absolute; width:40px; height:35px; padding-top:5px; font-size:25px; padding-left:20px; margin-left:70px \"><span><span></span></span></span>\n",
    "    </span>\n",
    "    <span style = \"position:relative;display:inline-block; width:400px; height: 30px; border-bottom:1px solid black; overflow: hidden;\">\n",
    "        <span style = \"position:absolute; width:40px; height:35px; padding-top:3px; font-size:25px; padding-left:30px; \"></span>\n",
    "    </span>\n",
    "    <span style = \"position:relative;display:inline-block; width:400px; height: 30px; border-bottom:1px solid black; overflow: hidden;\">\n",
    "    </span>\n",
    "    <span style = \"position:relative;display:inline-block; width:400px; height: 30px; border-bottom:1px solid black; overflow: hidden;\"></span>\n",
    "    <span style = \"position:relative;display:inline-block; width:400px; height: 30px; border-bottom:1px solid black; overflow: hidden;\"></span>\n",
    "    <span style = \"position:relative;display:inline-block; width:400px; height: 30px; border-bottom:1px solid black; overflow: hidden;\"></span>\n",
    "    <span style = \"position:relative;display:inline-block; width:400px; height: 30px; border-bottom:1px solid black; overflow: hidden;\"></span>\n",
    "    <span style = \"position:relative;display:inline-block; width:400px; height: 30px; border-bottom:1px solid black; overflow: hidden;\"></span>\n",
    "    \n",
    "</div>"
   ]
  },
  {
   "cell_type": "markdown",
   "id": "2a4f08f0",
   "metadata": {},
   "source": [
    "<p>Ensuite nous allons initialiser notre point de départ à 0.</p>\n",
    "<p>Après, nous allons sélectionner la distance en l'encadrant .</p>"
   ]
  },
  {
   "cell_type": "markdown",
   "id": "059cccfd",
   "metadata": {},
   "source": [
    "<div style =\"margin: 0px 25%; position: relative; display: block; text-indent: 0; width: 400px; height:305px; \n",
    "             border:1px solid black; overflow: hidden;\">\n",
    "    <span style = \"position:absolute; width:80px; height:350px; border:1px solid black; \" ><span style = \"position:relative;display:inline-block; width:400px; height: 30px; border-bottom:1px solid black; margin:0px 0px; overflow: hidden;\"></span></span>\n",
    "    <span style = \"position:absolute; width:40px; height:350px; border:1px solid black; margin-left:80px; overflow: hidden; padding-left:10px; \" >\n",
    "        <span style = \" position:absolute; width:40px; height:30px; padding-top:3px; font-size:25px;\">a</span>\n",
    "    </span>\n",
    "    <span style = \"position:absolute; width:40px; height:350px; border:1px solid black; margin-left:120px; overflow: hidden; padding-left:10px;\" >\n",
    "        <span style = \" position:absolute; width:40px; height:30px; padding-top:3px; font-size:25px;\">b</span>\n",
    "    </span>\n",
    "    <span style = \"position:absolute; width:40px; height:350px; border:1px solid black; margin-left:160px; overflow: hidden; padding-left:10px;\" >\n",
    "    <span style = \" position:absolute; width:40px; height:30px; padding-top:3px; font-size:25px;\">c</span>\n",
    "    </span>\n",
    "    <span style = \"position:absolute; width:40px; height:350px; border:1px solid black; margin-left:200px; overflow: hidden; padding-left:10px;\" >\n",
    "    <span style = \" position:absolute; width:40px; height:30px; padding-top:3px; font-size:25px;\">d</span>\n",
    "    </span>\n",
    "    <span style = \"position:absolute; width:40px; height:350px; border:1px solid black; margin-left:240px; overflow: hidden;padding-left:10px; \" >\n",
    "    <span style = \" position:absolute; width:40px; height:30px; padding-top:3px; font-size:25px;\">e</span>\n",
    "    </span>\n",
    "    <span style = \"position:absolute; width:40px; height:350px; border:1px solid black; margin-left:280px; overflow: hidden;padding-left:10px; \" >\n",
    "    <span style = \" position:absolute; width:40px; height:30px; padding-top:3px; font-size:25px;\">f</span>\n",
    "    </span>\n",
    "    <span style = \"position:absolute; width:40px; height:350px; border:1px solid black; margin-left:320px; overflow: hidden; padding-left:10px;\" >\n",
    "    <span style = \" position:absolute; width:40px; height:30px; padding-top:3px; font-size:25px;\">g</span>\n",
    "    </span>\n",
    "    <span style = \"position:absolute; width:40px; height:350px; border:1px solid black; margin-left:360px; overflow: hidden; padding-left:10px;\" >\n",
    "    <span style = \" position:absolute; width:40px; height:30px; padding-top:3px; font-size:25px;\">h</span>\n",
    "    </span>\n",
    "    <!-- partie 2 -->\n",
    "    <span style = \"position:relative;display:inline-block; width:400px; height: 30px; border-bottom:1px solid black; margin-top:30px; overflow: hidden;\">\n",
    "    <span style = \"position:absolute; width:40px; height:35px; padding-top:5px; font-size:25px; padding-left:20px; \">Init</span>\n",
    "     <span style = \"position:absolute; width:40px; height:35px; padding-top:5px; font-size:25px; padding-left:20px; margin-left:70px \"><span style = \"border: 1px solid black;\"><span>0</span></span></span>\n",
    "    </span>\n",
    "    <span style = \"position:relative;display:inline-block; width:400px; height: 30px; border-bottom:1px solid black; overflow: hidden;\">\n",
    "        <span style = \"position:absolute; width:40px; height:35px; padding-top:3px; font-size:25px; padding-left:30px; \"></span>\n",
    "    </span>\n",
    "    <span style = \"position:relative;display:inline-block; width:400px; height: 30px; border-bottom:1px solid black; overflow: hidden;\">\n",
    "    </span>\n",
    "    <span style = \"position:relative;display:inline-block; width:400px; height: 30px; border-bottom:1px solid black; overflow: hidden;\"></span>\n",
    "    <span style = \"position:relative;display:inline-block; width:400px; height: 30px; border-bottom:1px solid black; overflow: hidden;\"></span>\n",
    "    <span style = \"position:relative;display:inline-block; width:400px; height: 30px; border-bottom:1px solid black; overflow: hidden;\"></span>\n",
    "    <span style = \"position:relative;display:inline-block; width:400px; height: 30px; border-bottom:1px solid black; overflow: hidden;\"></span>\n",
    "    <span style = \"position:relative;display:inline-block; width:400px; height: 30px; border-bottom:1px solid black; overflow: hidden;\"></span>\n",
    "    \n",
    "\n",
    "</div>"
   ]
  },
  {
   "cell_type": "markdown",
   "id": "8325c067",
   "metadata": {},
   "source": [
    "<p>Et remplacer le reste des cases par des <code>X</code>.</p>\n",
    "<p>Ensuite on place sur la deuxième ligne à gauche le sommet que nous allons analyser. Dans ce cas <code style = \"font-style:italic;\">x1</code>.</p>"
   ]
  },
  {
   "cell_type": "markdown",
   "id": "86e2f983",
   "metadata": {},
   "source": [
    "<div style =\"margin: 0px 25%; position: relative; display: block; text-indent: 0; width: 400px; height:305px; \n",
    "             border:1px solid black; overflow: hidden;\">\n",
    "    <span style = \"position:absolute; width:80px; height:350px; border:1px solid black; \" ><span style = \"position:relative;display:inline-block; width:400px; height: 30px; border-bottom:1px solid black; margin:0px 0px; overflow: hidden;\"></span></span>\n",
    "    <span style = \"position:absolute; width:40px; height:350px; border:1px solid black; margin-left:80px; overflow: hidden; padding-left:10px; \" >\n",
    "        <span style = \" position:absolute; width:40px; height:30px; padding-top:3px; font-size:25px;\">x1</span>\n",
    "    </span>\n",
    "    <span style = \"position:absolute; width:40px; height:350px; border:1px solid black; margin-left:120px; overflow: hidden; padding-left:10px;\" >\n",
    "        <span style = \" position:absolute; width:40px; height:30px; padding-top:3px; font-size:25px;\">x2</span>\n",
    "    </span>\n",
    "    <span style = \"position:absolute; width:40px; height:350px; border:1px solid black; margin-left:160px; overflow: hidden; padding-left:10px;\" >\n",
    "    <span style = \" position:absolute; width:40px; height:30px; padding-top:3px; font-size:25px;\">x3</span>\n",
    "    </span>\n",
    "    <span style = \"position:absolute; width:40px; height:350px; border:1px solid black; margin-left:200px; overflow: hidden; padding-left:10px;\" >\n",
    "    <span style = \" position:absolute; width:40px; height:30px; padding-top:3px; font-size:25px;\">x4</span>\n",
    "    </span>\n",
    "    <span style = \"position:absolute; width:40px; height:350px; border:1px solid black; margin-left:240px; overflow: hidden;padding-left:10px; \" >\n",
    "    <span style = \" position:absolute; width:40px; height:30px; padding-top:3px; font-size:25px;\">x5</span>\n",
    "    </span>\n",
    "    <span style = \"position:absolute; width:40px; height:350px; border:1px solid black; margin-left:280px; overflow: hidden;padding-left:10px; \" >\n",
    "    <span style = \" position:absolute; width:40px; height:30px; padding-top:3px; font-size:25px;\">x6</span>\n",
    "    </span>\n",
    "    <span style = \"position:absolute; width:40px; height:350px; border:1px solid black; margin-left:320px; overflow: hidden; padding-left:10px;\" >\n",
    "    <span style = \" position:absolute; width:40px; height:30px; padding-top:3px; font-size:25px;\">x7</span>\n",
    "    </span>\n",
    "    <span style = \"position:absolute; width:40px; height:350px; border:1px solid black; margin-left:360px; overflow: hidden; padding-left:10px;\" >\n",
    "    <span style = \" position:absolute; width:40px; height:30px; padding-top:3px; font-size:25px;\">x8</span>\n",
    "    </span>\n",
    "    \n",
    "   <span style = \"position:relative;display:inline-block; width:400px; height: 30px; border-bottom:1px solid black; margin-top:30px; overflow: hidden;\">\n",
    "       <span style = \"position:absolute; width:40px; height:35px; padding-top:5px; font-size:25px; padding-left:20px; \">Init</span>\n",
    "       <span style = \"position:absolute; width:40px; height:35px; padding-top:5px; font-size:25px; padding-left:20px; margin-left:70px \"><span style = \"border: 1px solid black;\"><span>0</span></span></span>\n",
    "   </span>\n",
    "    \n",
    "<span style = \"position:relative;display:inline-block; width:400px; height: 30px; border-bottom:1px solid black; overflow: hidden;\">\n",
    "       <span style = \"position:absolute; width:40px; height:35px; padding-top:5px; font-size:25px; padding-left:20px; \">x1</span>\n",
    "       <span style = \"position:absolute; width:40px; height:35px; padding-top:5px; font-size:25px; padding-left:20px; margin-left:70px;\">X</span></span>\n",
    "    \n",
    "    \n",
    "<span style = \"position:relative;display:inline-block; width:400px; height: 30px; border-bottom:1px solid black; overflow: hidden;\">\n",
    "       <span style = \"position:absolute; width:40px; height:35px; padding-top:5px; font-size:25px; padding-left:20px; \"></span>\n",
    "       <span style = \"position:absolute; width:40px; height:35px; padding-top:5px; font-size:25px; padding-left:20px; margin-left:70px;\">X</span></span>\n",
    "    \n",
    "<span style = \"position:relative;display:inline-block; width:400px; height: 30px; border-bottom:1px solid black; overflow: hidden;\">\n",
    "       <span style = \"position:absolute; width:40px; height:35px; padding-top:5px; font-size:25px; padding-left:20px; \"></span>\n",
    "       <span style = \"position:absolute; width:40px; height:35px; padding-top:5px; font-size:25px; padding-left:20px; margin-left:70px;\">X</span></span>\n",
    "    \n",
    "<span style = \"position:relative;display:inline-block; width:400px; height: 30px; border-bottom:1px solid black; overflow: hidden;\">\n",
    "       <span style = \"position:absolute; width:40px; height:35px; padding-top:5px; font-size:25px; padding-left:20px; \"></span>\n",
    "       <span style = \"position:absolute; width:40px; height:35px; padding-top:5px; font-size:25px; padding-left:20px; margin-left:70px;\">X</span></span>\n",
    "    \n",
    "<span style = \"position:relative;display:inline-block; width:400px; height: 30px; border-bottom:1px solid black; overflow: hidden;\">\n",
    "       <span style = \"position:absolute; width:40px; height:35px; padding-top:5px; font-size:25px; padding-left:20px; \"></span><span style = \"position:absolute; width:40px; height:35px; padding-top:5px; font-size:25px; padding-left:20px; margin-left:70px;\">X</span></span>\n",
    "    \n",
    "<span style = \"position:relative;display:inline-block; width:400px; height: 30px; border-bottom:1px solid black; overflow: hidden;\">\n",
    "       <span style = \"position:absolute; width:40px; height:35px; padding-top:5px; font-size:25px; padding-left:20px; \"></span><span style = \"position:absolute; width:40px; height:35px; padding-top:5px; font-size:25px; padding-left:20px; margin-left:70px;\">X</span></span>\n",
    "    \n",
    "<span style = \"position:relative;display:inline-block; width:400px; height: 30px; border-bottom:1px solid black; overflow: hidden;\">\n",
    "       <span style = \"position:absolute; width:40px; height:35px; padding-top:5px; font-size:25px; padding-left:20px; \"></span><span style = \"position:absolute; width:40px; height:35px; padding-top:5px; font-size:25px; padding-left:20px; margin-left:70px;\">X</span></span>\n",
    "    \n",
    "</div>"
   ]
  },
  {
   "cell_type": "markdown",
   "id": "ac1f37e5",
   "metadata": {},
   "source": [
    "<p>Ensuite on refait les mêmes étapes, jusqu'a arriver à un tableau final resemblant à cela :</p>"
   ]
  },
  {
   "cell_type": "markdown",
   "id": "260410a9",
   "metadata": {},
   "source": [
    "<div style =\"margin: 0px 25%; position: relative; display: block; text-indent: 0; width: 400px; height:305px; \n",
    "             border:1px solid black; overflow: hidden;\">\n",
    "    <span style = \"position:absolute; width:80px; height:350px; border:1px solid black; \" ><span style = \"position:relative;display:inline-block; width:400px; height: 30px; border-bottom:1px solid black; margin:0px 0px; overflow: hidden;\"></span></span>\n",
    "    <span style = \"position:absolute; width:40px; height:350px; border:1px solid black; margin-left:80px; overflow: hidden; padding-left:10px; \" >\n",
    "        <span style = \" position:absolute; width:40px; height:30px; padding-top:3px; font-size:25px;\">x1</span>\n",
    "    </span>\n",
    "    <span style = \"position:absolute; width:40px; height:350px; border:1px solid black; margin-left:120px; overflow: hidden; padding-left:10px;\" >\n",
    "        <span style = \" position:absolute; width:40px; height:30px; padding-top:3px; font-size:25px;\">x2</span>\n",
    "    </span>\n",
    "    <span style = \"position:absolute; width:40px; height:350px; border:1px solid black; margin-left:160px; overflow: hidden; padding-left:10px;\" >\n",
    "    <span style = \" position:absolute; width:40px; height:30px; padding-top:3px; font-size:25px;\">x3</span>\n",
    "    </span>\n",
    "    <span style = \"position:absolute; width:40px; height:350px; border:1px solid black; margin-left:200px; overflow: hidden; padding-left:10px;\" >\n",
    "    <span style = \" position:absolute; width:40px; height:30px; padding-top:3px; font-size:25px;\">x4</span>\n",
    "    </span>\n",
    "    <span style = \"position:absolute; width:40px; height:350px; border:1px solid black; margin-left:240px; overflow: hidden;padding-left:10px; \" >\n",
    "    <span style = \" position:absolute; width:40px; height:30px; padding-top:3px; font-size:25px;\">x5</span>\n",
    "    </span>\n",
    "    <span style = \"position:absolute; width:40px; height:350px; border:1px solid black; margin-left:280px; overflow: hidden;padding-left:10px; \" >\n",
    "    <span style = \" position:absolute; width:40px; height:30px; padding-top:3px; font-size:25px;\">x6</span>\n",
    "    </span>\n",
    "    <span style = \"position:absolute; width:40px; height:350px; border:1px solid black; margin-left:320px; overflow: hidden; padding-left:10px;\" >\n",
    "    <span style = \" position:absolute; width:40px; height:30px; padding-top:3px; font-size:25px;\">x7</span>\n",
    "    </span>\n",
    "    <span style = \"position:absolute; width:40px; height:350px; border:1px solid black; margin-left:360px; overflow: hidden; padding-left:10px;\" >\n",
    "    <span style = \" position:absolute; width:40px; height:30px; padding-top:3px; font-size:25px;\">x8</span>\n",
    "    </span>\n",
    "    \n",
    "   <span style = \"position:relative;display:inline-block; width:400px; height: 30px; border-bottom:1px solid black; margin-top:30px; overflow: hidden;\">\n",
    "       <span style = \"position:absolute; width:40px; height:35px; padding-top:5px; font-size:25px; padding-left:20px; \">Init</span>\n",
    "       <span style = \"position:absolute; width:40px; height:35px; padding-top:5px; font-size:25px; padding-left:20px; margin-left:70px \"><span style = \"border: 1px solid black;\"><span>0</span></span></span>\n",
    "   </span>\n",
    "    \n",
    "   <span style = \"position:relative;display:inline-block; width:400px; height: 30px; border-bottom:1px solid black; overflow: hidden;\">\n",
    "       <span style = \"position:absolute; width:40px; height:35px; padding-top:5px; font-size:25px; padding-left:20px; \">x1</span>\n",
    "       <span style = \"position:absolute; width:40px; height:35px; padding-top:5px; font-size:25px; padding-left:20px; margin-left:70px;\">X</span>\n",
    "       <span style = \"position:absolute; width:40px; height:35px; padding-top:3px; font-size:25px; padding-left:30px; \"><span style = \"position:absolute; width:40px; height:35px; padding-top:2px; font-size:25px; padding-left:25px; margin-left:75px;\"><span style = \"border: 1px solid black; \"><span>1</span></span></span></span>\n",
    "       <span style = \"position:absolute; width:40px; height:35px; padding-top:3px; font-size:25px; padding-left:30px; \"><span style = \"position:absolute; width:40px; height:35px; padding-top:2px; font-size:25px; padding-left:25px; margin-left:235px;\"><span style = \"border: 1px solid black; \"><span>1</span></span></span></span>\n",
    "       <span style = \"position:absolute; width:40px; height:35px; padding-top:3px; font-size:25px; padding-left:30px; \"><span style = \"position:absolute; width:40px; height:35px; padding-top:2px; font-size:25px; padding-left:25px; margin-left:315px;\"><span style = \"border: 1px solid black; \"><span>1</span></span></span></span>\n",
    "    </span>\n",
    "    \n",
    "    \n",
    "<span style = \"position:relative;display:inline-block; width:400px; height: 30px; border-bottom:1px solid black; overflow: hidden;\">\n",
    "       <span style = \"position:absolute; width:40px; height:35px; padding-top:5px; font-size:25px; padding-left:20px; \">x2</span>\n",
    "       <span style = \"position:absolute; width:40px; height:35px; padding-top:5px; font-size:25px; padding-left:20px; margin-left:70px;\">X</span>\n",
    "       <span style = \"position:absolute; width:40px; height:35px; padding-top:5px; font-size:25px; padding-left:20px; margin-left:110px;\">X</span>\n",
    "        <span style = \"position:absolute; width:40px; height:35px; padding-top:3px; font-size:25px; padding-left:30px; \"><span style = \"position:absolute; width:40px; height:35px; padding-top:2px; font-size:25px; padding-left:25px; margin-left:155px;\"><span style = \"border: 1px solid black; \"><span>2</span></span></span></span>\n",
    "    <span style = \"position:absolute; width:40px; height:35px; padding-top:5px; font-size:25px; padding-left:20px; margin-left:270px;\">1</span>\n",
    "        <span style = \"position:absolute; width:40px; height:35px; padding-top:3px; font-size:25px; padding-left:30px; \"><span style = \"position:absolute; width:40px; height:35px; padding-top:2px; font-size:25px; padding-left:25px; margin-left:275px;\"><span style = \"border: 1px solid black; \"><span>2</span></span></span></span>\n",
    "        <span style = \"position:absolute; width:40px; height:35px; padding-top:5px; font-size:25px; padding-left:20px; margin-left:350px;\">1</span>\n",
    "    </span>\n",
    "    \n",
    "<span style = \"position:relative;display:inline-block; width:400px; height: 30px; border-bottom:1px solid black; overflow: hidden;\">\n",
    "       <span style = \"position:absolute; width:40px; height:35px; padding-top:5px; font-size:25px; padding-left:20px; \">x6</span>\n",
    "       <span style = \"position:absolute; width:40px; height:35px; padding-top:5px; font-size:25px; padding-left:20px; margin-left:70px;\">X</span>\n",
    "        <span style = \"position:absolute; width:40px; height:35px; padding-top:5px; font-size:25px; padding-left:20px; margin-left:110px;\">X</span>\n",
    "        <span style = \"position:absolute; width:40px; height:35px; padding-top:5px; font-size:25px; padding-left:20px; margin-left:190px;\">2</span>\n",
    "        <span style = \"position:absolute; width:40px; height:35px; padding-top:5px; font-size:25px; padding-left:20px; margin-left:270px;\">X</span>\n",
    "        <span style = \"position:absolute; width:40px; height:35px; padding-top:5px; font-size:25px; padding-left:20px; margin-left:310px;\">2</span>\n",
    "        <span style = \"position:absolute; width:40px; height:35px; padding-top:5px; font-size:25px; padding-left:20px; margin-left:350px;\">1</span>\n",
    "    </span>\n",
    "    \n",
    "<span style = \"position:relative;display:inline-block; width:400px; height: 30px; border-bottom:1px solid black; overflow: hidden;\">\n",
    "       <span style = \"position:absolute; width:40px; height:35px; padding-top:5px; font-size:25px; padding-left:20px; \">x8</span>\n",
    "       <span style = \"position:absolute; width:40px; height:35px; padding-top:5px; font-size:25px; padding-left:20px; margin-left:70px;\">X</span>\n",
    "        <span style = \"position:absolute; width:40px; height:35px; padding-top:5px; font-size:25px; padding-left:20px; margin-left:110px;\">X</span>\n",
    "        <span style = \"position:absolute; width:40px; height:35px; padding-top:5px; font-size:25px; padding-left:20px; margin-left:190px;\">2</span>\n",
    "        <span style = \"position:absolute; width:40px; height:35px; padding-top:5px; font-size:25px; padding-left:20px; margin-left:270px;\">X</span>\n",
    "        <span style = \"position:absolute; width:40px; height:35px; padding-top:5px; font-size:25px; padding-left:20px; margin-left:310px;\">2</span>\n",
    "        <span style = \"position:absolute; width:40px; height:35px; padding-top:5px; font-size:25px; padding-left:20px; margin-left:350px;\">X</span>\n",
    "    </span>\n",
    "    \n",
    "<span style = \"position:relative;display:inline-block; width:400px; height: 30px; border-bottom:1px solid black; overflow: hidden;\">\n",
    "       <span style = \"position:absolute; width:40px; height:35px; padding-top:5px; font-size:25px; padding-left:20px; \">x4</span>\n",
    "       <span style = \"position:absolute; width:40px; height:35px; padding-top:5px; font-size:25px; padding-left:20px; margin-left:70px;\">X</span>\n",
    "        <span style = \"position:absolute; width:40px; height:35px; padding-top:5px; font-size:25px; padding-left:20px; margin-left:110px;\">X</span>\n",
    "        <span style = \"position:absolute; width:40px; height:35px; padding-top:5px; font-size:25px; padding-left:20px; margin-left:190px;\">X</span>\n",
    "        <span style = \"position:absolute; width:40px; height:35px; padding-top:5px; font-size:25px; padding-left:20px; margin-left:270px;\">X</span>\n",
    "        <span style = \"position:absolute; width:40px; height:35px; padding-top:5px; font-size:25px; padding-left:20px; margin-left:310px;\">2</span>\n",
    "        <span style = \"position:absolute; width:40px; height:35px; padding-top:5px; font-size:25px; padding-left:20px; margin-left:350px;\">X</span>\n",
    "    </span>\n",
    "    \n",
    "<span style = \"position:relative;display:inline-block; width:400px; height: 30px; border-bottom:1px solid black; overflow: hidden;\">\n",
    "       <span style = \"position:absolute; width:40px; height:35px; padding-top:5px; font-size:25px; padding-left:20px; \">x7</span>\n",
    "       <span style = \"position:absolute; width:40px; height:35px; padding-top:5px; font-size:25px; padding-left:20px; margin-left:70px;\">X</span>\n",
    "        <span style = \"position:absolute; width:40px; height:35px; padding-top:5px; font-size:25px; padding-left:20px; margin-left:110px;\">X</span>\n",
    "        <span style = \"position:absolute; width:40px; height:35px; padding-top:5px; font-size:25px; padding-left:20px; margin-left:190px;\">X</span>\n",
    "        <span style = \"position:absolute; width:40px; height:35px; padding-top:3px; font-size:25px; padding-left:30px; \"><span style = \"position:absolute; width:40px; height:35px; padding-top:2px; font-size:25px; padding-left:25px; margin-left:195px;\"><span style = \"border: 1px solid black; \"><span>3</span></span></span></span>\n",
    "        <span style = \"position:absolute; width:40px; height:35px; padding-top:5px; font-size:25px; padding-left:20px; margin-left:270px;\">X</span>\n",
    "        <span style = \"position:absolute; width:40px; height:35px; padding-top:5px; font-size:25px; padding-left:20px; margin-left:310px;\">X</span>\n",
    "        <span style = \"position:absolute; width:40px; height:35px; padding-top:5px; font-size:25px; padding-left:20px; margin-left:350px;\">X</span>\n",
    "    </span>\n",
    "    \n",
    "<span style = \"position:relative;display:inline-block; width:400px; height: 30px; border-bottom:1px solid black; overflow: hidden;\">\n",
    "       <span style = \"position:absolute; width:40px; height:35px; padding-top:5px; font-size:25px; padding-left:20px; \">x5</span>\n",
    "       <span style = \"position:absolute; width:40px; height:35px; padding-top:5px; font-size:25px; padding-left:20px; margin-left:70px;\">X</span>\n",
    "        <span style = \"position:absolute; width:40px; height:35px; padding-top:5px; font-size:25px; padding-left:20px; margin-left:110px;\">X</span>\n",
    "        <span style = \"position:absolute; width:40px; height:35px; padding-top:3px; font-size:25px; padding-left:30px; \"><span style = \"position:absolute; width:40px; height:35px; padding-top:2px; font-size:25px; padding-left:25px; margin-left:120px;\"><span style = \"border: 1px solid black; \"><span>4</span></span></span></span>\n",
    "        <span style = \"position:absolute; width:40px; height:35px; padding-top:5px; font-size:25px; padding-left:20px; margin-left:190px;\">X</span>\n",
    "        <span style = \"position:absolute; width:40px; height:35px; padding-top:5px; font-size:25px; padding-left:20px; margin-left:230px;\">X</span>\n",
    "        <span style = \"position:absolute; width:40px; height:35px; padding-top:5px; font-size:25px; padding-left:20px; margin-left:270px;\">X</span>\n",
    "        <span style = \"position:absolute; width:40px; height:35px; padding-top:5px; font-size:25px; padding-left:20px; margin-left:310px;\">X</span>\n",
    "        <span style = \"position:absolute; width:40px; height:35px; padding-top:5px; font-size:25px; padding-left:20px; margin-left:350px;\">X</span>\n",
    "    </span>\n",
    "    \n",
    "</div>\n",
    "<br>\n",
    "<div style = \"margin-left:30%; font-style:italic;\">Ce tableau à été réfait à partir du modèle vu en cours !</div>"
   ]
  },
  {
   "cell_type": "markdown",
   "id": "26e45bdb",
   "metadata": {},
   "source": [
    "<p style = \"font-style:italic; text-indent:25px;\">ATTENTION :Le tableau à été codé sur un fichier <code>.ipynb</code> Il sérait possible que le tableau ne soit pas fonctionnel en mode html et des bug d'affichage serait presents. Pour assurer une bonne lisibilité voici aussi le même tableau mais en version image.</p>\n",
    "<img src=\"tableau.png\" style=\"width:500px; height:400px\">"
   ]
  },
  {
   "cell_type": "markdown",
   "id": "5814d4c2",
   "metadata": {},
   "source": [
    "<h1>C'est la fin de notre document </h1>"
   ]
  }
 ],
 "metadata": {
  "kernelspec": {
   "display_name": "Python 3 (ipykernel)",
   "language": "python",
   "name": "python3"
  },
  "language_info": {
   "codemirror_mode": {
    "name": "ipython",
    "version": 3
   },
   "file_extension": ".py",
   "mimetype": "text/x-python",
   "name": "python",
   "nbconvert_exporter": "python",
   "pygments_lexer": "ipython3",
   "version": "3.10.4"
  }
 },
 "nbformat": 4,
 "nbformat_minor": 5
}
