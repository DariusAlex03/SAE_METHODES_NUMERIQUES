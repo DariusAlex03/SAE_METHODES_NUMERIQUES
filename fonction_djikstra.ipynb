{
 "cells": [
  {
   "cell_type": "code",
   "execution_count": 1,
   "id": "e3972450",
   "metadata": {},
   "outputs": [],
   "source": [
    "import random\n",
    "import string\n",
    "from matplotlib.pyplot import *\n"
   ]
  },
  {
   "cell_type": "code",
   "execution_count": 2,
   "id": "6273e7b7",
   "metadata": {},
   "outputs": [
    {
     "name": "stdout",
     "output_type": "stream",
     "text": [
      "QIAQS\n"
     ]
    }
   ],
   "source": [
    "\n",
    "#obtenir une chaine de caractere aleatoire \n",
    "def chaine_alea(length):    \n",
    "    str = string.ascii_uppercase\n",
    "    return ''.join(random.choice(str) for i in range(length))\n",
    "print(chaine_alea(5))"
   ]
  },
  {
   "cell_type": "code",
   "execution_count": 3,
   "id": "9046ceaf",
   "metadata": {},
   "outputs": [
    {
     "name": "stdout",
     "output_type": "stream",
     "text": [
      "['CHSCJ', 'TEPSD', 'IMKJL', 'FSGBK', 'SDKFV', 'UKIAH']\n"
     ]
    }
   ],
   "source": [
    "#obtenir un tableau de chaine de caractere aleatoire\n",
    "\n",
    "def nom_points_aleatoire(longueur):\n",
    "\n",
    "    str = string.ascii_uppercase\n",
    "    tab = []\n",
    "    for i in range(longueur):\n",
    "        t = (chaine_alea(5))\n",
    "        j = 0\n",
    "        while j < len(tab):\n",
    "            if tab[j] == t :\n",
    "                t = (chaine_alea(5))\n",
    "            j += 1\n",
    "        tab.append(t)\n",
    "\n",
    "    return tab\n",
    "\n",
    "\n",
    "print(nom_points_aleatoire(6))"
   ]
  },
  {
   "cell_type": "code",
   "execution_count": 4,
   "id": "2b59c5a6",
   "metadata": {},
   "outputs": [
    {
     "name": "stdout",
     "output_type": "stream",
     "text": [
      "[48, 83, 5, 72, 100]\n"
     ]
    }
   ],
   "source": [
    "#obtenir un tableau de distance aleatoire\n",
    "\n",
    "\n",
    "def distances_aleatoire(taille):\n",
    "    tab_point_alea = []\n",
    "    i = 0\n",
    "    while i < int(taille):\n",
    "        tab_point_alea.append(random.randint(1,100))\n",
    "        i+= 1\n",
    "\n",
    "    return tab_point_alea\n",
    "\n",
    "print(distances_aleatoire(5))"
   ]
  },
  {
   "cell_type": "code",
   "execution_count": 5,
   "id": "348e733b",
   "metadata": {},
   "outputs": [
    {
     "name": "stdout",
     "output_type": "stream",
     "text": [
      "{'BHYIS': 42, 'ELIYW': 58, 'MLPBF': 55, 'IIOJL': 2, 'RQIOY': 39}\n"
     ]
    }
   ],
   "source": [
    "#couple disctance + point\n",
    "\n",
    "def diagramme(points,tab):\n",
    "    k = tab\n",
    "    l = distances_aleatoire(points)\n",
    "    diag ={}\n",
    "    i = 0\n",
    "    while i <len(k):\n",
    "        diag.update({k[i] : l[i]})\n",
    "        i += 1\n",
    "    return diag\n",
    "    \n",
    "print(diagramme(5,nom_points_aleatoire(5)))"
   ]
  },
  {
   "cell_type": "code",
   "execution_count": 6,
   "id": "234214c9",
   "metadata": {},
   "outputs": [
    {
     "name": "stdout",
     "output_type": "stream",
     "text": [
      "({'IDQEJ': {'IDQEJ': 55, 'GTCRM': 13, 'SOCIR': 1, 'AWXDS': 65, 'JDUFY': 72}, 'GTCRM': {'IDQEJ': 58, 'GTCRM': 70, 'SOCIR': 65, 'AWXDS': 71, 'JDUFY': 79}, 'SOCIR': {'IDQEJ': 21, 'GTCRM': 26, 'SOCIR': 18, 'AWXDS': 51, 'JDUFY': 2}, 'AWXDS': {'IDQEJ': 45, 'GTCRM': 68, 'SOCIR': 10, 'AWXDS': 62, 'JDUFY': 73}, 'JDUFY': {'IDQEJ': 85, 'GTCRM': 3, 'SOCIR': 76, 'AWXDS': 25, 'JDUFY': 71}}, dict_keys(['IDQEJ', 'GTCRM', 'SOCIR', 'AWXDS', 'JDUFY']))\n"
     ]
    }
   ],
   "source": [
    "\n",
    "#obtenir une matrice aleatoire\n",
    "\n",
    "def matrice_primaire_alea(nbr_de_point):\n",
    "\n",
    "    matrice_prim={}\n",
    "\n",
    "    a=nom_points_aleatoire(nbr_de_point)\n",
    "  \n",
    "    \n",
    "    i=0\n",
    "    while len(matrice_prim.keys())<nbr_de_point:\n",
    "        matrice_prim[a[i]] = diagramme(nbr_de_point,a)\n",
    "        \n",
    "\n",
    "        \n",
    "      \n",
    "        i+=1\n",
    "    return matrice_prim, matrice_prim.keys()\n",
    "\n",
    "print(matrice_primaire_alea(5))\n",
    "\n",
    "\n",
    "\n",
    "  "
   ]
  },
  {
   "cell_type": "code",
   "execution_count": 7,
   "id": "bd76373a",
   "metadata": {},
   "outputs": [],
   "source": [
    "#algorithme de dijkstra\n",
    "def dijkstra(matrice, source):\n",
    "    assert all(matrice[u][v] >= 0 for u in matrice.keys() for v in matrice[u].keys())\n",
    "    precedent = {x:None for x in matrice.keys()}\n",
    "    dejaTraite = {x:False for x in matrice.keys()}\n",
    "    distance =  {x:float('inf') for x in matrice.keys()}\n",
    "    distance[source] = 0\n",
    "    a_traiter = [(0, source)]\n",
    "    while a_traiter:\n",
    "        dist_noeud, noeud = a_traiter.pop()\n",
    "        if not dejaTraite[noeud]:\n",
    "            dejaTraite[noeud] = True\n",
    "            for voisin in matrice[noeud].keys():\n",
    "                dist_voisin = dist_noeud + matrice[noeud][voisin]\n",
    "                if dist_voisin < distance[voisin]:\n",
    "                    distance[voisin] = dist_voisin\n",
    "                    precedent[voisin] = noeud\n",
    "                    a_traiter.append((dist_voisin, voisin))\n",
    "        a_traiter.sort(reverse=True)\n",
    "    return distance, precedent\n",
    "\n"
   ]
  },
  {
   "cell_type": "code",
   "execution_count": 8,
   "id": "6c2c044c",
   "metadata": {},
   "outputs": [],
   "source": [
    "#obtenir le trajet a effectuer\n",
    "def trajet(precedent,arriver):\n",
    "    tab=[arriver]\n",
    "    while precedent.get(tab[-1]) is not None:\n",
    "        tab.append(precedent.get(tab[-1]))\n",
    "    tab.reverse()\n",
    "    return tab"
   ]
  },
  {
   "cell_type": "code",
   "execution_count": 9,
   "id": "d6d1f540",
   "metadata": {},
   "outputs": [
    {
     "name": "stdout",
     "output_type": "stream",
     "text": [
      "{'PARIS': {'LYON': 3, 'RENNE': 12}, 'LYON': {'PARIS': 3, 'MARSEILLE': 5, 'NICE': 2}, 'NICE': {'LYON': 2, 'MARSEILLE': 1}, 'RENNE': {'MARSEILLE': 4, 'PARIS': 12}, 'MARSEILLE': {'NICE': 1, 'RENNE': 4}}\n",
      "(['LYON', 'NICE', 'MARSEILLE'], 3)\n"
     ]
    }
   ],
   "source": [
    "#obtenir le trajet a effectuer + sa disctance\n",
    "\n",
    "\n",
    "def  dijkstra_final(matrice,depart,arriver):\n",
    "    distance, precedent = dijkstra(matrice,depart)\n",
    "    print(matrice)\n",
    "    return trajet(precedent,arriver),distance.get(arriver)\n",
    "\n",
    "\n",
    "france={}\n",
    "france['PARIS']={'LYON':3,'RENNE':12}\n",
    "france['LYON']={'PARIS':3,'MARSEILLE':5,'NICE':2}\n",
    "france['NICE']={'LYON':2,'MARSEILLE':1}\n",
    "\n",
    "france['RENNE']={'MARSEILLE':4,'PARIS':12}\n",
    "france['MARSEILLE']={'NICE':1,'RENNE':4}\n",
    "\n",
    "\n",
    "\n",
    "    \n",
    "print(dijkstra_final(france,'LYON','MARSEILLE'))\n"
   ]
  },
  {
   "cell_type": "code",
   "execution_count": 10,
   "id": "3fa9156d",
   "metadata": {},
   "outputs": [
    {
     "name": "stdout",
     "output_type": "stream",
     "text": [
      "combien de point voulez vous dans votre matrice?\n",
      "8\n",
      "les different point du graphe sont dict_keys(['XXYKL', 'EWWYC', 'DFLZE', 'MVXYG', 'ZMOQF', 'ZWPQR', 'PKMDV', 'VDJMS'])\n",
      "quel est votre point de depart?\n",
      "XXYKL\n",
      "quel est votre point d'arriver?\n",
      "ZWPQR\n",
      "{'XXYKL': {'XXYKL': 12, 'EWWYC': 97, 'DFLZE': 73, 'MVXYG': 12, 'ZMOQF': 69, 'ZWPQR': 34, 'PKMDV': 52, 'VDJMS': 47}, 'EWWYC': {'XXYKL': 28, 'EWWYC': 3, 'DFLZE': 96, 'MVXYG': 28, 'ZMOQF': 67, 'ZWPQR': 23, 'PKMDV': 93, 'VDJMS': 61}, 'DFLZE': {'XXYKL': 4, 'EWWYC': 39, 'DFLZE': 24, 'MVXYG': 34, 'ZMOQF': 9, 'ZWPQR': 49, 'PKMDV': 34, 'VDJMS': 96}, 'MVXYG': {'XXYKL': 63, 'EWWYC': 83, 'DFLZE': 79, 'MVXYG': 21, 'ZMOQF': 54, 'ZWPQR': 10, 'PKMDV': 71, 'VDJMS': 74}, 'ZMOQF': {'XXYKL': 74, 'EWWYC': 56, 'DFLZE': 35, 'MVXYG': 54, 'ZMOQF': 22, 'ZWPQR': 47, 'PKMDV': 18, 'VDJMS': 7}, 'ZWPQR': {'XXYKL': 11, 'EWWYC': 11, 'DFLZE': 41, 'MVXYG': 11, 'ZMOQF': 60, 'ZWPQR': 36, 'PKMDV': 68, 'VDJMS': 63}, 'PKMDV': {'XXYKL': 74, 'EWWYC': 37, 'DFLZE': 47, 'MVXYG': 10, 'ZMOQF': 72, 'ZWPQR': 16, 'PKMDV': 83, 'VDJMS': 24}, 'VDJMS': {'XXYKL': 94, 'EWWYC': 57, 'DFLZE': 51, 'MVXYG': 91, 'ZMOQF': 61, 'ZWPQR': 24, 'PKMDV': 42, 'VDJMS': 58}}\n",
      "{'XXYKL': {'XXYKL': 12, 'EWWYC': 97, 'DFLZE': 73, 'MVXYG': 12, 'ZMOQF': 69, 'ZWPQR': 34, 'PKMDV': 52, 'VDJMS': 47}, 'EWWYC': {'XXYKL': 28, 'EWWYC': 3, 'DFLZE': 96, 'MVXYG': 28, 'ZMOQF': 67, 'ZWPQR': 23, 'PKMDV': 93, 'VDJMS': 61}, 'DFLZE': {'XXYKL': 4, 'EWWYC': 39, 'DFLZE': 24, 'MVXYG': 34, 'ZMOQF': 9, 'ZWPQR': 49, 'PKMDV': 34, 'VDJMS': 96}, 'MVXYG': {'XXYKL': 63, 'EWWYC': 83, 'DFLZE': 79, 'MVXYG': 21, 'ZMOQF': 54, 'ZWPQR': 10, 'PKMDV': 71, 'VDJMS': 74}, 'ZMOQF': {'XXYKL': 74, 'EWWYC': 56, 'DFLZE': 35, 'MVXYG': 54, 'ZMOQF': 22, 'ZWPQR': 47, 'PKMDV': 18, 'VDJMS': 7}, 'ZWPQR': {'XXYKL': 11, 'EWWYC': 11, 'DFLZE': 41, 'MVXYG': 11, 'ZMOQF': 60, 'ZWPQR': 36, 'PKMDV': 68, 'VDJMS': 63}, 'PKMDV': {'XXYKL': 74, 'EWWYC': 37, 'DFLZE': 47, 'MVXYG': 10, 'ZMOQF': 72, 'ZWPQR': 16, 'PKMDV': 83, 'VDJMS': 24}, 'VDJMS': {'XXYKL': 94, 'EWWYC': 57, 'DFLZE': 51, 'MVXYG': 91, 'ZMOQF': 61, 'ZWPQR': 24, 'PKMDV': 42, 'VDJMS': 58}}\n",
      "(['XXYKL', 'MVXYG', 'ZWPQR'], 22)\n"
     ]
    }
   ],
   "source": [
    "#obtenir le trajet a effectuer + sa disctance pour une matrice aleatoire\n",
    "\n",
    "def  dijkstra_final_aleatoire():\n",
    "    print(\"combien de point voulez vous dans votre matrice?\")\n",
    "    a, b=matrice_primaire_alea(int(input()))\n",
    "    \n",
    "    print(\"les different point du graphe sont\",b)\n",
    "    print(\"quel est votre point de depart?\")\n",
    "    depart=input()\n",
    "    print(\"quel est votre point d'arriver?\")\n",
    "    arriver=input()\n",
    "    print (a)\n",
    "    return dijkstra_final(a,depart,arriver)\n",
    "    \n",
    "\n",
    "print(dijkstra_final_aleatoire())\n",
    "  "
   ]
  },
  {
   "cell_type": "code",
   "execution_count": null,
   "id": "3e752434",
   "metadata": {},
   "outputs": [],
   "source": []
  }
 ],
 "metadata": {
  "kernelspec": {
   "display_name": "Python 3 (ipykernel)",
   "language": "python",
   "name": "python3"
  },
  "language_info": {
   "codemirror_mode": {
    "name": "ipython",
    "version": 3
   },
   "file_extension": ".py",
   "mimetype": "text/x-python",
   "name": "python",
   "nbconvert_exporter": "python",
   "pygments_lexer": "ipython3",
   "version": "3.10.4"
  }
 },
 "nbformat": 4,
 "nbformat_minor": 5
}
